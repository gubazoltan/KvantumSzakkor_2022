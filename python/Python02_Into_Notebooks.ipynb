{
 "cells": [
  {
   "cell_type": "markdown",
   "metadata": {},
   "source": [
    "<a href=\"https://qworld.net\" target=\"_blank\" align=\"left\"><img src=\"../qworld/images/header.jpg\"  align=\"left\"></a>\n",
    "_prepared by Abuzer Yakaryilmaz_"
   ]
  },
  {
   "cell_type": "code",
   "execution_count": null,
   "metadata": {},
   "outputs": [],
   "source": [
    "# A Jupyter notebook is composed by one or more cells.\n",
    "# This notebook is prepared for Jupyter notebooks, and the menu items and command buttons may differ in Jupyter lab.\n",
    "# There are two main cells: Code and Markdown.\n",
    "# A code cell is used to write and execute your code.\n",
    "# A markdown cell is used to write text descriptions, notes, formulas or include graphics and images.\n",
    "# On a markdown cell, you can format your content by using Markdown, HTML, or LaTeX code.\n",
    "# During our tutorial, you are expected to write only Python code.\n",
    "# Interested readers may also use markdown cells, but it is not necessary to complete our tutorial.\n",
    "\n",
    "#\n",
    "# We explain basic usage of cells in Jupyter notebooks here\n",
    "#\n",
    "\n",
    "# This is the first cell in this notebook.\n",
    "# You can write Python code here, and then EXECUTE/RUN it by\n",
    "# 1) pressing CTRL+ENTER or SHIFT+ENTER\n",
    "# 2) clicking \"Run\" on the menu\n",
    "\n",
    "\n",
    "# Here are few lines of Python code\n",
    "\n",
    "print(\"hello world\")\n",
    "str=\"*\"\n",
    "for i in range(10):\n",
    "    print(str)\n",
    "    str+=\"*\"\n",
    "\n",
    "# After executing this cell, the outcomes will immediately appear after this cell.\n",
    "# You can change the range above and re-run this cell."
   ]
  },
  {
   "cell_type": "code",
   "execution_count": null,
   "metadata": {},
   "outputs": [],
   "source": [
    "# This is the second cell in this notebook.\n",
    "#\n",
    "# By using the menu item \"Insert\", you can add a new cell before or after the active cell.\n",
    "# When a cell is selected, you may delete it by using the menu item \"Edit\".\n",
    "#\n",
    "# As you may have noticed, there are other editing options under \"Edit\".\n",
    "# For example, copy/cut-paste cells and split-merge cells.\n",
    "#"
   ]
  },
  {
   "cell_type": "markdown",
   "metadata": {},
   "source": [
    "<b>This is the third cell.</b>\n",
    "\n",
    "This is a markdown type cell.\n",
    "\n",
    "The type of any cell is shown on the toolbar under the menu bar (right-side). You can change the type of a cell from this pulldown menu.\n",
    "\n",
    "You can type Markdown, HTML, and LaTex code in this cell.\n",
    "\n",
    "<i>By double-clicking on this cell, you can see its code.</i> <br>\n",
    "<u>By executing this cell, you can see the resulting content.</u>"
   ]
  },
  {
   "cell_type": "markdown",
   "metadata": {},
   "source": [
    "<b> This is the fourth cell.</b>\n",
    "\n",
    "This is also a markdown cell.\n",
    "\n",
    "LaTex is used to display mathematical expressions, formulas, etc. \n",
    "\n",
    "For example, $ x^2 + y ^ 2 = \\frac{4}{9} $, $ \\sum_{i=1}^n (i+2)^{3} $, or $ \\left( \\begin{array}{rr}  1 & 0 & -1 \\\\ 2 & -2 & 0 \\\\ 3 & -1 & -2  \\end{array} \\right) $.\n",
    "\n",
    "<i>By double-clicking on this cell, you can see its code.</i> <br> \n",
    "<u>By executing/running this cell, you can see the resulting content.</u>"
   ]
  },
  {
   "cell_type": "markdown",
   "metadata": {},
   "source": [
    "<h2> Tips </h2>"
   ]
  },
  {
   "cell_type": "markdown",
   "metadata": {},
   "source": [
    "Showing line numbers: View $\\rightarrow$ Toggle Line Numbers\n",
    "\n",
    "Command mode: CTRL+SHIFT+P"
   ]
  },
  {
   "cell_type": "markdown",
   "metadata": {},
   "source": [
    "<h2>Magic Commands</h2>\n",
    "\n",
    "Here are a few built-in magic commands for Jupyter notebooks that we will use throughout this tutorial. \n",
    "\n",
    "These commands can be executed in code-type cells."
   ]
  },
  {
   "cell_type": "markdown",
   "metadata": {},
   "source": [
    "<b><u>Write the content of a code cell</u></b> into an external file:\n",
    "    \n",
    "    %%writefile FILENAME.py\n",
    "This command should be placed in the first line of the cell, and then the cell should be executed.\n",
    "\n",
    "<i> Example:</i>"
   ]
  },
  {
   "cell_type": "code",
   "execution_count": null,
   "metadata": {},
   "outputs": [],
   "source": [
    "%%writefile first.py \n",
    "\n",
    "print(\"hello world\")\n",
    "\n",
    "str=\"*\"\n",
    "for i in range(5):\n",
    "    print(str)\n",
    "    str+=\"*\"  "
   ]
  },
  {
   "cell_type": "markdown",
   "metadata": {},
   "source": [
    "<b><u>Execute an external script</u></b> without loading its content into the cell:\n",
    "    \n",
    "    %run FILENAME.py\n",
    "<i>Example:</i>    "
   ]
  },
  {
   "cell_type": "code",
   "execution_count": null,
   "metadata": {},
   "outputs": [],
   "source": [
    "%run first.py\n"
   ]
  },
  {
   "cell_type": "markdown",
   "metadata": {},
   "source": [
    "<b><u>Load an external script</u></b> into a cell:\n",
    "\n",
    "    %load FILENAME.py\n",
    "Once this command is executed, the content of the cell is replaced with the content of the file (The previous content is deleted).\n",
    "\n",
    "Besides, this command is placed on the first line of the cell and commented out.\n",
    "\n",
    "<i>Example:</i>"
   ]
  },
  {
   "cell_type": "code",
   "execution_count": null,
   "metadata": {},
   "outputs": [],
   "source": [
    "%load first.py\n"
   ]
  }
 ],
 "metadata": {
  "kernelspec": {
   "display_name": "Python 3",
   "language": "python",
   "name": "python3"
  },
  "language_info": {
   "codemirror_mode": {
    "name": "ipython",
    "version": 3
   },
   "file_extension": ".py",
   "mimetype": "text/x-python",
   "name": "python",
   "nbconvert_exporter": "python",
   "pygments_lexer": "ipython3",
   "version": "3.7.1"
  }
 },
 "nbformat": 4,
 "nbformat_minor": 2
}
