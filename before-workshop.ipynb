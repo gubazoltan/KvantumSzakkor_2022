{
 "cells": [
  {
   "cell_type": "markdown",
   "metadata": {},
   "source": [
    "<table width=\"100%\"><tr style=\"background-color:white;\">\n",
    "    <td style=\"text-align:left;padding:0px;width:142px'\">\n",
    "        <a href=\"https://qworld.net\" target=\"_blank\">\n",
    "            <img src=\"qworld/images/QWorld.png\"></a></td>\n",
    "    <td width=\"*\">&nbsp;&nbsp;&nbsp;&nbsp;&nbsp;&nbsp;</td>\n",
    "    <!-- ############################################# -->\n",
    "    <td style=\"padding:0px;width:90px;\">\n",
    "        <img align=\"right\" src=\"qworld/images/follow_us.png\" height=\"40px\"></td>\n",
    "    <td style=\"padding:0px;width:40px;\">\n",
    "        <a href=\"https://twitter.com/QWorld19\" target=\"_blank\">\n",
    "        <img align=\"right\" src=\"qworld/images/Twitter.png\" width=\"40px\"></a> </td>\n",
    "    <td style=\"padding:0px;width:5px;\"></td>\n",
    "    <td style=\"padding:0px;width:40px;\">\n",
    "        <a href=\"https://www.facebook.com/qworld19/\" target=\"_blank\">\n",
    "        <img align=\"right\" src=\"qworld/images/Fb.png\"></a></td>\n",
    "    <td style=\"padding:0px;width:5px;\"></td>\n",
    "    <td style=\"padding:0px;width:40px;\">\n",
    "        <a href=\"https://www.linkedin.com/company/qworld19\" target=\"_blank\">\n",
    "        <img align=\"right\" src=\"qworld/images/LinkedIn.png\"></a></td>\n",
    "    <td style=\"padding:0px;width:5px;\"></td>\n",
    "    <td style=\"padding:0px;width:40px;\">\n",
    "        <a href=\"https://youtube.com/QWorld19?sub_confirmation=1\" target=\"_blank\">\n",
    "        <img align=\"right\" src=\"qworld/images/YT.png\"></a></td>\n",
    "    <!-- ############################################# -->\n",
    "    <td style=\"padding:0px;width:60px;\">\n",
    "        <img align=\"right\" src=\"qworld/images/join.png\" height=\"40px\"></td>\n",
    "    <td style=\"padding:0px;width:40px;\">\n",
    "        <a href=\"https://discord.gg/akCvr7U87g\"\n",
    "           target=\"_blank\">\n",
    "        <img align=\"right\" src=\"qworld/images/Discord.png\"></a></td>\n",
    "    <!-- ############################################# -->\n",
    "    <td style=\"padding:0px;width:72px;\">\n",
    "        <img align=\"right\" src=\"qworld/images/w3.png\" height=\"40px\"></td>\n",
    "    <td style=\"padding:0px;width:40px;\">\n",
    "        <a href=\"https://qworld.net\" target=\"_blank\">\n",
    "        <img align=\"right\" src=\"qworld/images/www.png\"></a></td>\n",
    "</tr></table>"
   ]
  },
  {
   "cell_type": "markdown",
   "metadata": {},
   "source": [
    "<h2 align=\"left\" style=\"color: #cd7f32;\"> Before Workshop </h2>\n",
    "\n",
    "1. Check the first notebook below to complete the installation of Qiskit and also test your system.\n",
    "\n",
    "1. Complete all notebooks listed under section \"Python review\" if you are not familiar with Python.\n",
    "\n",
    "1. Review all notebooks listed under section \"Basic math\" before the workshop starts."
   ]
  },
  {
   "cell_type": "markdown",
   "metadata": {},
   "source": [
    "### Installation and Test\n",
    "\n",
    "<a href=\"quantum-with-qiskit/Q04_Qiskit_installation_and_test.ipynb\" target=\"_blank\">Qiskit installation and test</a>\n",
    "\n",
    "### Python review\n",
    "\n",
    "[Jupyter notebooks](python/Python02_Into_Notebooks.ipynb) &nbsp;|&nbsp;\n",
    "[Variables](python/Python08_Basics_Variables.ipynb) &nbsp;|&nbsp;\n",
    "[Loops](python/Python12_Basics_Loops.ipynb) &nbsp;|&nbsp;\n",
    "[Conditionals](python/Python16_Basics_Conditionals.ipynb) &nbsp;|&nbsp;\n",
    "[Lists](python/Python20_Basics_Lists.ipynb) &nbsp;|&nbsp;\n",
    "[Python Reference](python/Python04_Quick_Reference.ipynb) &nbsp;|&nbsp;\n",
    "[Drawing Reference](python/Python06_Drawing.ipynb)\n",
    "\n",
    "### Basic math\n",
    "\n",
    "[Vectors](math/Math20_Vectors.ipynb) &nbsp;|&nbsp;\n",
    "[Dot Product](math/Math24_Dot_Product.ipynb) &nbsp;|&nbsp;\n",
    "[Matrices](math/Math28_Matrices.ipynb) &nbsp;|&nbsp;\n",
    "[Tensor Product](math/Math32_Tensor_Product.ipynb) &nbsp;|&nbsp;\n",
    "[Exercises](math/Exercises_Basic_Math.ipynb)"
   ]
  }
 ],
 "metadata": {
  "kernelspec": {
   "display_name": "Python 3",
   "language": "python",
   "name": "python3"
  },
  "language_info": {
   "codemirror_mode": {
    "name": "ipython",
    "version": 3
   },
   "file_extension": ".py",
   "mimetype": "text/x-python",
   "name": "python",
   "nbconvert_exporter": "python",
   "pygments_lexer": "ipython3",
   "version": "3.7.1"
  }
 },
 "nbformat": 4,
 "nbformat_minor": 2
}
