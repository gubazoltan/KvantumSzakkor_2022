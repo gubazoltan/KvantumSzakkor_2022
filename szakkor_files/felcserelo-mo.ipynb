{
 "cells": [
  {
   "cell_type": "code",
   "execution_count": 2,
   "id": "e34f6356-8317-49a1-a410-33496caf231a",
   "metadata": {},
   "outputs": [
    {
     "name": "stderr",
     "output_type": "stream",
     "text": [
      "ibmqfactory.load_account:WARNING:2022-04-01 15:04:09,873: Credentials are already in use. The existing account in the session will be replaced.\n"
     ]
    }
   ],
   "source": [
    "from qiskit import QuantumCircuit, IBMQ\n",
    "provider = IBMQ.load_account()"
   ]
  },
  {
   "cell_type": "code",
   "execution_count": 40,
   "id": "b4cd69a4-2cb6-48a4-b451-3f67101d59c9",
   "metadata": {},
   "outputs": [],
   "source": [
    "def swap_neighbors(circ, i, j):\n",
    "    if (i != j+1) and (j != i+1):\n",
    "        return 'nem szomszedok'\n",
    "    circ.cx(i, j)\n",
    "    circ.cx(j, i)\n",
    "    circ.cx(i, j)\n",
    "    return circ"
   ]
  },
  {
   "cell_type": "code",
   "execution_count": 41,
   "id": "140612c3-5300-4313-9efb-fc57fdffa2bd",
   "metadata": {},
   "outputs": [],
   "source": [
    "def swap(circ, i, j):\n",
    "    if i > j:\n",
    "        i, j = j, i\n",
    "    for k in range(i, j):\n",
    "        circ = swap_neighbors(circ, k, k+1)\n",
    "    for l in range(j-1, i, -1):\n",
    "        circ = swap_neighbors(circ, l, l-1)\n",
    "    return circ"
   ]
  },
  {
   "cell_type": "code",
   "execution_count": 42,
   "id": "02b0b228-c3e6-436f-8280-412ed1ef47ad",
   "metadata": {},
   "outputs": [],
   "source": [
    "from qiskit.providers.aer import QasmSimulator\n",
    "backend = QasmSimulator()"
   ]
  },
  {
   "cell_type": "markdown",
   "id": "48738b72-d0b7-46e1-8e3e-6984002015ae",
   "metadata": {},
   "source": [
    "Az eredeti áramkör (felcserélések nélkül): a qiskitben fordított sorrendben írják az állapotokat, ezért van a végén az 1"
   ]
  },
  {
   "cell_type": "code",
   "execution_count": 47,
   "id": "f52b1b0e-face-4583-9fa8-e22f0c3b8e8d",
   "metadata": {},
   "outputs": [
    {
     "data": {
      "text/plain": [
       "{'0000001': 1024}"
      ]
     },
     "execution_count": 47,
     "metadata": {},
     "output_type": "execute_result"
    }
   ],
   "source": [
    "circ = QuantumCircuit(7, 7)\n",
    "circ.x(0)\n",
    "circ.measure(range(7), range(7))\n",
    "job = backend.run(circ)\n",
    "job.result().get_counts()"
   ]
  },
  {
   "cell_type": "markdown",
   "id": "d443e400-816f-479e-822c-7adeabf349b1",
   "metadata": {},
   "source": [
    "Az áramkör a felcserélésekkel"
   ]
  },
  {
   "cell_type": "code",
   "execution_count": 49,
   "id": "45d4e12d-c0bc-4632-91b9-1545778e25a8",
   "metadata": {
    "tags": []
   },
   "outputs": [
    {
     "data": {
      "text/plain": [
       "{'1000000': 1024}"
      ]
     },
     "execution_count": 49,
     "metadata": {},
     "output_type": "execute_result"
    }
   ],
   "source": [
    "circ = QuantumCircuit(7, 7)\n",
    "circ.x(0)\n",
    "circ = swap(circ, 0, 6)\n",
    "circ.measure(range(7), range(7))\n",
    "job = backend.run(circ)\n",
    "job.result().get_counts()"
   ]
  },
  {
   "cell_type": "markdown",
   "id": "954ba818-7904-428a-bacc-4568cb9896aa",
   "metadata": {},
   "source": [
    "Az 1 az elejére került, sikerült a csere"
   ]
  },
  {
   "cell_type": "code",
   "execution_count": null,
   "id": "bf1b50d7-52bb-44ef-bf5a-7a2808aea27e",
   "metadata": {},
   "outputs": [],
   "source": []
  }
 ],
 "metadata": {
  "kernelspec": {
   "display_name": "Qiskit v0.34.2 (ipykernel)",
   "language": "python",
   "name": "python3"
  },
  "language_info": {
   "codemirror_mode": {
    "name": "ipython",
    "version": 3
   },
   "file_extension": ".py",
   "mimetype": "text/x-python",
   "name": "python",
   "nbconvert_exporter": "python",
   "pygments_lexer": "ipython3",
   "version": "3.8.13"
  },
  "widgets": {
   "application/vnd.jupyter.widget-state+json": {
    "state": {
     "163e2740945d44ac9278f45ba1bc5818": {
      "model_module": "@jupyter-widgets/base",
      "model_module_version": "1.2.0",
      "model_name": "LayoutModel",
      "state": {
       "margin": "0px 0px 10px 0px"
      }
     },
     "1f7bcbb165b743c1a31521cb01c81d60": {
      "model_module": "@jupyter-widgets/controls",
      "model_module_version": "1.5.0",
      "model_name": "DescriptionStyleModel",
      "state": {
       "description_width": ""
      }
     },
     "20a48c4648c94977887cddecba108993": {
      "model_module": "@jupyter-widgets/controls",
      "model_module_version": "1.5.0",
      "model_name": "DescriptionStyleModel",
      "state": {
       "description_width": ""
      }
     },
     "239a36a45f3b4e529ef21d24d286aa6c": {
      "model_module": "@jupyter-widgets/controls",
      "model_module_version": "1.5.0",
      "model_name": "HTMLModel",
      "state": {
       "layout": "IPY_MODEL_163e2740945d44ac9278f45ba1bc5818",
       "style": "IPY_MODEL_66dacd4b1a574191bb0f4770b2de6b6e",
       "value": "<p style='font-family: IBM Plex Sans, Arial, Helvetica, sans-serif; font-size: 20px; font-weight: medium;'>Circuit Properties</p>"
      }
     },
     "4d016d0277704394af6ff98d7d2d7fd9": {
      "model_module": "@jupyter-widgets/controls",
      "model_module_version": "1.5.0",
      "model_name": "HTMLModel",
      "state": {
       "layout": "IPY_MODEL_57e3d8749fcd447198c5da69582e133f",
       "style": "IPY_MODEL_1f7bcbb165b743c1a31521cb01c81d60",
       "value": "<h5>Backend</h5>"
      }
     },
     "50f670cb60b84cd0b2e5de5e35b0875e": {
      "model_module": "@jupyter-widgets/controls",
      "model_module_version": "1.5.0",
      "model_name": "DescriptionStyleModel",
      "state": {
       "description_width": ""
      }
     },
     "51663b76d8484b48a4ca59087e00531e": {
      "model_module": "@jupyter-widgets/base",
      "model_module_version": "1.2.0",
      "model_name": "LayoutModel",
      "state": {
       "width": "95px"
      }
     },
     "5669784703cd4db99687fc5afe76b163": {
      "model_module": "@jupyter-widgets/controls",
      "model_module_version": "1.5.0",
      "model_name": "HTMLModel",
      "state": {
       "layout": "IPY_MODEL_51663b76d8484b48a4ca59087e00531e",
       "style": "IPY_MODEL_78098c6583fe4cc7957616ad13a190a3",
       "value": "<h5>Status</h5>"
      }
     },
     "57e3d8749fcd447198c5da69582e133f": {
      "model_module": "@jupyter-widgets/base",
      "model_module_version": "1.2.0",
      "model_name": "LayoutModel",
      "state": {
       "width": "145px"
      }
     },
     "66dacd4b1a574191bb0f4770b2de6b6e": {
      "model_module": "@jupyter-widgets/controls",
      "model_module_version": "1.5.0",
      "model_name": "DescriptionStyleModel",
      "state": {
       "description_width": ""
      }
     },
     "69e7cff1fca948f6af6c7b3d9654eedf": {
      "model_module": "@jupyter-widgets/controls",
      "model_module_version": "1.5.0",
      "model_name": "HTMLModel",
      "state": {
       "layout": "IPY_MODEL_c119ace931744154a447c3bc21db3350",
       "style": "IPY_MODEL_20a48c4648c94977887cddecba108993",
       "value": "<h5>Message</h5>"
      }
     },
     "6c1da7bcc3ef46b1bcf76de6a4a2e8b5": {
      "model_module": "@jupyter-widgets/base",
      "model_module_version": "1.2.0",
      "model_name": "LayoutModel",
      "state": {
       "grid_template_areas": "\n                                       \". . . . right \"\n                                        ",
       "grid_template_columns": "20% 20% 20% 20% 20%",
       "width": "100%"
      }
     },
     "6fb625e32dc2403e825e3a3d9c1fa7a4": {
      "model_module": "@jupyter-widgets/base",
      "model_module_version": "1.2.0",
      "model_name": "LayoutModel",
      "state": {
       "width": "190px"
      }
     },
     "71c1f662454b488f9b382bd1811dd881": {
      "model_module": "@jupyter-widgets/controls",
      "model_module_version": "1.5.0",
      "model_name": "GridBoxModel",
      "state": {
       "children": [
        "IPY_MODEL_8a47a4d70dcd4a2f981e0604b364e9d8"
       ],
       "layout": "IPY_MODEL_6c1da7bcc3ef46b1bcf76de6a4a2e8b5"
      }
     },
     "78098c6583fe4cc7957616ad13a190a3": {
      "model_module": "@jupyter-widgets/controls",
      "model_module_version": "1.5.0",
      "model_name": "DescriptionStyleModel",
      "state": {
       "description_width": ""
      }
     },
     "7d660a5d80e74634b21a07ed4ee2b78b": {
      "model_module": "@jupyter-widgets/controls",
      "model_module_version": "1.5.0",
      "model_name": "HTMLModel",
      "state": {
       "layout": "IPY_MODEL_6fb625e32dc2403e825e3a3d9c1fa7a4",
       "style": "IPY_MODEL_adc3d9500dc3456b8c98bd323710440d",
       "value": "<h5>Job ID</h5>"
      }
     },
     "833893e42cab4875b4f9fc30cd83ff13": {
      "model_module": "@jupyter-widgets/base",
      "model_module_version": "1.2.0",
      "model_name": "LayoutModel",
      "state": {
       "grid_area": "right",
       "padding": "0px 0px 0px 0px",
       "width": "70px"
      }
     },
     "8636118563014b46993027cc793995c3": {
      "model_module": "@jupyter-widgets/controls",
      "model_module_version": "1.5.0",
      "model_name": "HTMLModel",
      "state": {
       "layout": "IPY_MODEL_95a547c3480e4162bb2d7f80a33c2ff4",
       "style": "IPY_MODEL_50f670cb60b84cd0b2e5de5e35b0875e",
       "value": "<h5>Queue</h5>"
      }
     },
     "8a47a4d70dcd4a2f981e0604b364e9d8": {
      "model_module": "@jupyter-widgets/controls",
      "model_module_version": "1.5.0",
      "model_name": "ButtonModel",
      "state": {
       "button_style": "primary",
       "description": "Clear",
       "layout": "IPY_MODEL_833893e42cab4875b4f9fc30cd83ff13",
       "style": "IPY_MODEL_8d7e2d68667d4493a60cf6b1ffd08f36"
      }
     },
     "8d7e2d68667d4493a60cf6b1ffd08f36": {
      "model_module": "@jupyter-widgets/controls",
      "model_module_version": "1.5.0",
      "model_name": "ButtonStyleModel",
      "state": {}
     },
     "95a547c3480e4162bb2d7f80a33c2ff4": {
      "model_module": "@jupyter-widgets/base",
      "model_module_version": "1.2.0",
      "model_name": "LayoutModel",
      "state": {
       "width": "70px"
      }
     },
     "ab7621ca339b469bb75f069baffab420": {
      "model_module": "@jupyter-widgets/controls",
      "model_module_version": "1.5.0",
      "model_name": "HBoxModel",
      "state": {
       "children": [
        "IPY_MODEL_7d660a5d80e74634b21a07ed4ee2b78b",
        "IPY_MODEL_4d016d0277704394af6ff98d7d2d7fd9",
        "IPY_MODEL_5669784703cd4db99687fc5afe76b163",
        "IPY_MODEL_8636118563014b46993027cc793995c3",
        "IPY_MODEL_69e7cff1fca948f6af6c7b3d9654eedf"
       ],
       "layout": "IPY_MODEL_dea968fcc97d4e77b4d01cabdcb77e56"
      }
     },
     "adc3d9500dc3456b8c98bd323710440d": {
      "model_module": "@jupyter-widgets/controls",
      "model_module_version": "1.5.0",
      "model_name": "DescriptionStyleModel",
      "state": {
       "description_width": ""
      }
     },
     "c119ace931744154a447c3bc21db3350": {
      "model_module": "@jupyter-widgets/base",
      "model_module_version": "1.2.0",
      "model_name": "LayoutModel",
      "state": {}
     },
     "dea968fcc97d4e77b4d01cabdcb77e56": {
      "model_module": "@jupyter-widgets/base",
      "model_module_version": "1.2.0",
      "model_name": "LayoutModel",
      "state": {
       "margin": "0px 0px 0px 37px",
       "width": "600px"
      }
     }
    },
    "version_major": 2,
    "version_minor": 0
   }
  }
 },
 "nbformat": 4,
 "nbformat_minor": 5
}
