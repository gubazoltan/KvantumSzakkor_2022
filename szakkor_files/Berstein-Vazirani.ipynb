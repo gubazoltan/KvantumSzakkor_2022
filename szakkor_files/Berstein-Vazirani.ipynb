{
 "cells": [
  {
   "cell_type": "code",
   "execution_count": 3,
   "metadata": {},
   "outputs": [],
   "source": [
    "# Importing standard Qiskit libraries\n",
    "from qiskit import QuantumCircuit, execute, Aer, IBMQ, QuantumRegister\n",
    "from qiskit.compiler import transpile, assemble\n",
    "from qiskit.tools.jupyter import *\n",
    "from qiskit.visualization import *\n",
    "from ibm_quantum_widgets import *\n",
    "\n",
    "\n",
    "import numpy as np\n",
    "import qiskit as qk\n",
    "\n",
    "from fractions import Fraction\n",
    "from qiskit.providers.ibmq import least_busy\n",
    "from qiskit.tools.monitor import job_monitor\n",
    "\n",
    "\n",
    "# Loading your IBM Q account(s)\n",
    "provider = IBMQ.load_account()"
   ]
  },
  {
   "cell_type": "code",
   "execution_count": 4,
   "metadata": {},
   "outputs": [
    {
     "name": "stdout",
     "output_type": "stream",
     "text": [
      "ibmq_quito\n"
     ]
    }
   ],
   "source": [
    "simulator = qk.BasicAer.get_backend('qasm_simulator')\n",
    "real = least_busy(provider.backends(filters=lambda x: x.configuration().n_qubits > 4,\n",
    "                                            operational=True, simulator=False))\n",
    "print(real)"
   ]
  },
  {
   "cell_type": "markdown",
   "metadata": {},
   "source": [
    "### A Bernstein-Vazirani Probléma\n",
    "\n",
    "Adott egy feketedoboz függvény ami egy $\\underline{x} = (x_1, x_2, ..., x_n)$ bitsorhoz rendel hozzá 0-t vagy 1-et:<br><br>\\begin{equation}\n",
    "f(x_1, x_2, ..., x_n) = 0 \\text{ or } 1.\n",
    "\\end{equation}\n",
    "(Minden $i$-re $x_i$ 0 vagy 1.) Tudjuk, hogy a függvény minden $\\underline{x}$ bitsor esetén egy $\\underline{s}$ bitsorral vett bitenkénti szorzatának 2 szerinti maradékát adja vissza. A bitenkénti szorzat alatt a következő műveletet értjük: $\\underline{s}\\cdot\\underline{x} = x_1\\cdot s_1 +x_2\\cdot s_2 +...+x_n\\cdot s_n$. Tehát a függvényt a következő alakban írható fel: $f(\\underline{x}) = \\underline{s}\\cdot\\underline{x} \\text{ mod } 2$. Az a feladat, hogy találjuk ki, hogy mi az $\\underline{s}$ bitsor.<br>"
   ]
  },
  {
   "cell_type": "markdown",
   "metadata": {},
   "source": [
    "**1. feladat** \n",
    "\n",
    "Gondoljuk végig, hogy hogyan oldanánk meg A Berstein-Vazarini problémát egy klasszikus számítógéppel. Hányszor kéne ehhez elvégezni az $f$ függvényt megvalósító műveletet?"
   ]
  },
  {
   "cell_type": "code",
   "execution_count": 4,
   "metadata": {},
   "outputs": [],
   "source": [
    "n = 4\n",
    "s = np.random.randint(0, 2, n)\n",
    "\n",
    "def f(x, s): # x egy és s azonos hosszúságú numpy array-ok\n",
    "    if len(x) != n:\n",
    "        raise ValueError(\"x and s have to be of the same length\")\n",
    "    return np.dot(x, s)%2"
   ]
  },
  {
   "cell_type": "markdown",
   "metadata": {},
   "source": [
    "**2. feladat** \n",
    "Határozzuk meg a véletlenszerűen generált $s$ bitsort, anélkül, hogy kiírnánk az értékét. Használjuk az f(x, s) függvényt, ami az $\\underline{s}\\cdot\\underline{x} \\text{ mod } 2$ értéket adja vissza."
   ]
  },
  {
   "cell_type": "code",
   "execution_count": 5,
   "metadata": {},
   "outputs": [],
   "source": [
    "# megoldás helye\n",
    "\n"
   ]
  },
  {
   "cell_type": "markdown",
   "metadata": {},
   "source": [
    "**Állítás**: Az alábbi ábrán látható kvantumáramkör elvégzése után pontosan az $s$ bitsort mérjük. (Az utolsó qubitet nem kell mérni, annak értéke nem érdekel minket.) Tehát elég egyszer elvégeznünk az $f$ függvényt megvalósító műveletet.\n\n",
    "<img src=\"./python_qiskit_figures/b-v.png\" width=\"300\">\n",
    "A $|-\\rangle$ állapotot úgy állíthatjuk elő, hogy az $|{1}\\rangle$ állapotra hatunk egy $H$ kapuval."
   ]
  },
  {
   "cell_type": "code",
   "execution_count": 6,
   "metadata": {},
   "outputs": [],
   "source": [
    "def black_box(s): # s egy bitsor\n",
    "    n = len(s)\n",
    "    qc = QuantumCircuit(n+1)\n",
    "    for i in range(len(s)):\n",
    "        if s[n-i-1] == 1:\n",
    "            qc.cx(i, n)\n",
    "    qc.name = \"f\"\n",
    "    return qc"
   ]
  },
  {
   "cell_type": "code",
   "execution_count": 7,
   "metadata": {},
   "outputs": [],
   "source": [
    "\"\"\"az i egész szám bináris alakját írja be a függvény n darab qubitbe\"\"\"\n",
    "def encode(i, n):\n",
    "    if 2**n <= i:\n",
    "        raise ValueError(\"'i' is too big to be stored on n qubits\")\n",
    "    bits = np.array(list(format(i, \"b\")), dtype=int)\n",
    "    while len(bits) < n:\n",
    "        bits = np.insert(bits, 0, 0)\n",
    "    qc = QuantumCircuit(n)\n",
    "    for j in range(len(bits)):\n",
    "        if bits[j]  == 1:\n",
    "            qc.x(n-j-1)\n",
    "    qc.name = \"%i\" %i\n",
    "    return qc"
   ]
  },
  {
   "cell_type": "markdown",
   "metadata": {},
   "source": [
    "**3. feladat (szorgalmi)** \n",
    "\n",
    "Ellenőrizzük, hogy a black_box(s) kvantumkapu úgy működik-e ahogy azt elvárjuk tőle az $\\underline{s}=(1, 0, 1, 1)$ bitsor esetén:\n",
    "- Hozzunk létre egy 5 qubites kvantumáramkört. \n",
    "- Írjunk bele egy $\\underline{x}$ bitsort az első 4 qubitbe. Ehhez használhatjuk az encode($i$, $n$) függvényt, ami az $i$ egész szám bináris alakját írja bele $n$ darab qubitbe, de a függvény nélkül is könnyen megoldható a feladat. \n",
    "- Hattassuk a black_box(s) kaput az 5 qubitre, majd mérjük meg az 5. qubitet. \n",
    "- Ha a black_box(s) kvantumkapu jól működik az $\\underline{x}_0 = (0, 0, 0, 1)$, $\\underline{x}_1 = (0, 0, 1, 0)$, $\\underline{x}_2 = (0, 1, 0, 0)$, $\\underline{x}_3 = (1, 0, 0, 0)$ bemeneti bitsorokra, akkor minden bemeneti bitsorra jól működik.\n"
   ]
  },
  {
   "cell_type": "code",
   "execution_count": 8,
   "metadata": {},
   "outputs": [],
   "source": [
    "s = np.array([1, 0, 1, 1])\n",
    "\n",
    "# megoldás helye\n",
    "\n",
    "\n"
   ]
  },
  {
   "cell_type": "markdown",
   "metadata": {},
   "source": [
    "**4.feladat**\n",
    "Rakjuk össze a fenti ábrán látható áramkört. Az $f$-el jelölt kapu helyére rakjuk a black_box($\\underline{s}$) kaput. Legyen $\\underline{s} = (1, 0, 1, 1)$.\n",
    "Ellenőrizzük, hogy a kvantumáramkör mérésekor tényleg visszakapjuk-e az $s$ bitsort. (Az áramkört futtathatjuk $\\underline{s}$ más értékeire is.) Próbáljuk ki a kvantumáramkört szimulátoron is és igazi kvantumszámítógépen is."
   ]
  },
  {
   "cell_type": "code",
   "execution_count": 1,
   "metadata": {},
   "outputs": [],
   "source": [
    "# megoldás helye\n",
    "\n",
    "\n"
   ]
  }
 ],
 "metadata": {
  "kernelspec": {
   "display_name": "Python 3",
   "language": "python",
   "name": "python3"
  },
  "language_info": {
   "codemirror_mode": {
    "name": "ipython",
    "version": 3
   },
   "file_extension": ".py",
   "mimetype": "text/x-python",
   "name": "python",
   "nbconvert_exporter": "python",
   "pygments_lexer": "ipython3",
   "version": "3.8.5"
  }
 },
 "nbformat": 4,
 "nbformat_minor": 4
}
