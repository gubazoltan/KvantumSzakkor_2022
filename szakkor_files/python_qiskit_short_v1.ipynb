{
 "cells": [
  {
   "cell_type": "markdown",
   "id": "180832c2-3de1-4f9c-a042-cf147df0b1de",
   "metadata": {},
   "source": [
    "# Qiskit használata python programozási nyelven\n",
    "\n",
    "__Motiváció:__ <br>\n",
    "Eddig drag & drop módszerrel készítettünk kvantumáramköröket. Ennek nagy hátránya, hogy bonyolultabb áramkörök esetén az áramkörök mások általi reprodukálása időigényes és nehézkes tud lenni. A megoldás az, hogy az áramköröket valamilyen program nyelv segítségével hozzuk létre (jelen esetben ez a python). A munkánkat megkönnyítik azok az ún. package-ek (\"csomagok\"), amelyeket speciálisan kvantumáramkörök létrehozására és manipulálására fejlesztettek ki. Ebben a notebook-ban az IBM által python nyelvre kifejlesztett, Qiskit elnevezésű, csomaggal fogunk megismerkedni."
   ]
  },
  {
   "cell_type": "markdown",
   "id": "b6618770-3311-4269-afd2-9ab23045c50c",
   "metadata": {},
   "source": [
    "## Első Qiskit program"
   ]
  },
  {
   "cell_type": "code",
   "execution_count": 29,
   "id": "ac1a1137-f779-46be-afeb-db2d80098e87",
   "metadata": {},
   "outputs": [
    {
     "data": {
      "image/png": "[encoded data removed]",
      "text/plain": [
       "<Figure size 193.726x144.48 with 1 Axes>"
      ]
     },
     "execution_count": 29,
     "metadata": {},
     "output_type": "execute_result"
    }
   ],
   "source": [
    "#importáljuk a qiskit-ben létrehozott különböző objektumokat\n",
    "from qiskit import QuantumCircuit, execute, Aer\n",
    "\n",
    "#létrehozunk egy kvantumáramkört 1 darab qubittel és 1 darab klasszikus bit-tel.\n",
    "circuit = QuantumCircuit(1,1) #mostantól a circuit névvel valójában egy kvantumáramkörre tudunk hivatkozni\n",
    "\n",
    "#az alábbi paranccsal egy H kaput tudunk hattatni az első qubitre \n",
    "circuit.h(0)\n",
    "# VIGYÁZAT: az első qubitet továbbra is egy 0-val tudjuk megszólítani!\n",
    "#(Ha circuit.h(qreg[1]) -et írok, akkor hibaüzenetet fogok kapni, mivel csak egy qubit van az áramkörben)\n",
    "\n",
    "#most mérjük meg a qubitet az alábbi paranccsal:\n",
    "circuit.measure(0,0)\n",
    "#Ezen a ponton válik világossá, hogy miért van szükségünk klasszikus bitekre is:\n",
    "#A mérésünk eredményét csakis klasszikus biteken tudjuk tárolni.\n",
    "\n",
    "#Az áramkörökön végrehajtott manipulációk után érdemes kirajzolni az áramkört.\n",
    "#Ezzel megbizonyosodhatunk róla, hogy nincsen hiba a kódunkban.\n",
    "#Áramkör kirajzolásához szükséges parancs:\n",
    "circuit.draw(output = 'mpl')"
   ]
  },
  {
   "cell_type": "markdown",
   "id": "976bee29-c818-45d2-9abf-da25b61c8170",
   "metadata": {},
   "source": [
    "### Mit lehet kiolvasni ebből az ábrából? "
   ]
  },
  {
   "cell_type": "markdown",
   "id": "2a09fac4-8394-4aad-a758-c703cc7ae48c",
   "metadata": {},
   "source": [
    "<img src=\"basic_circuit.png\" width=\"600\">"
   ]
  },
  {
   "cell_type": "markdown",
   "id": "c7119ece-c73c-4073-83c6-e82e21a11764",
   "metadata": {},
   "source": [
    "### Áramkör megmérése."
   ]
  },
  {
   "cell_type": "code",
   "execution_count": 30,
   "id": "f2b57f2e-762f-4ea2-a652-4ed1e6444c50",
   "metadata": {},
   "outputs": [],
   "source": [
    "#Most mérjük meg az általunk elkészített kvantumáramkört.\n",
    "#Ehhez létre kell hoznunk egy job-ot (\"feladatot\") a következő paranccsal:\n",
    "job = execute(circuit , Aer.get_backend('qasm_simulator') , shots=1024)"
   ]
  },
  {
   "cell_type": "markdown",
   "id": "35774136-c79e-4b38-a16b-18e8576eb4ef",
   "metadata": {},
   "source": [
    "#### Mi a parancs szerkeszete?\n",
    "\n",
    "<ol>\n",
    "<li>Az execute függvénynek meg kell adnunk, hogy pontosan melyik kvantumáramkör az amit meg szeretnénk mérni. Ez az első argumentumunk.</li>\n",
    "<li>Azt is meg kell mondanunk, hogy milyen eszközön szeretnénk megmérni az áramkört. Mi most egy kvantumos szimulátort fogunk használni,\n",
    "ami nem egy igazi kvantumszámítógép. A kvantumos szimulátorunkat az Aer.get_backend('qasm_simulator') paranccsal tudjuk megszólítani. \n",
    "Ez a második argumentum.</li>\n",
    "<li>Az utolsó információ amit érdemes meghatároznunk az a shotok száma, vagyis az, hogy hányszor szeretnénk megmérni az áramkörünket.\n",
    "    (Ez a kifejezés nem teljesen pontos, mivel valójában nem 1024-szer mérjük meg ugyanazt az áramkört, hanem 1024-szer hozzuk létre és mérjük meg az áramkört.)</li>\n",
    "</ol>"
   ]
  },
  {
   "cell_type": "markdown",
   "id": "e09be31f-01dc-4bbe-9a03-8d1060faeb13",
   "metadata": {},
   "source": [
    "### Eredmények kimutatása."
   ]
  },
  {
   "cell_type": "code",
   "execution_count": 31,
   "id": "977c529a-d7d5-4c41-a0c9-8d40bf8c9896",
   "metadata": {},
   "outputs": [
    {
     "name": "stdout",
     "output_type": "stream",
     "text": [
      "{'0': 538, '1': 486}\n"
     ]
    }
   ],
   "source": [
    "#Jelenleg a 'job' objektum tartalmazza a mérésünk eredményét, amit szeretnénk kinyerni ebből valahogyan.\n",
    "#Ehhez mutat egy lehetséges példát az alábbi kód:\n",
    "\n",
    "#a 'job' objektumból először kinyerjük az eredményeket: job.result().\n",
    "#Majd ezekből az eredményekből kinyerjük azt az információt ami számunkra a leghasznosabb: job.result().get_counts()\n",
    "#Ezzel megkapjuk azt az információt, hogy melyik mérési eredményt hányszor kaptuk meg a kísérletünk során.\n",
    "counts = job.result().get_counts(circuit)\n",
    "\n",
    "#kiíratjuk az eredményeket\n",
    "print(counts)"
   ]
  },
  {
   "cell_type": "markdown",
   "id": "5eb7ec9a-ae93-4d83-8efb-1e1d9356d111",
   "metadata": {},
   "source": [
    "### Értelmezzük az eredményeket."
   ]
  },
  {
   "cell_type": "code",
   "execution_count": 33,
   "id": "6be73c4e-ba89-4183-82ce-21008c53e3ac",
   "metadata": {},
   "outputs": [
    {
     "name": "stdout",
     "output_type": "stream",
     "text": [
      "State 0 is observed with frequency % 52.5390625\n",
      "State 1 is observed with frequency % 47.4609375\n"
     ]
    },
    {
     "data": {
      "image/png": "[encoded data removed]",
      "text/plain": [
       "<Figure size 504x360 with 1 Axes>"
      ]
     },
     "execution_count": 33,
     "metadata": {},
     "output_type": "execute_result"
    }
   ],
   "source": [
    "#Importáljunk egy hasznos módszert a vizualizációhoz.\n",
    "#(Erről később több szó lesz.)\n",
    "from qiskit.visualization import plot_histogram\n",
    "\n",
    "#számoljuk meg, hogy hányszor mértünk 0-t és 1-et.\n",
    "n_zeros = counts['0']\n",
    "n_ones = counts['1']\n",
    "\n",
    "#Írassuk ki, hogy a mérések hány százalékában melyiket mértük.\n",
    "print(\"State 0 is observed with frequency %\",100*n_zeros/(n_zeros+n_ones))\n",
    "print(\"State 1 is observed with frequency %\",100*n_ones/(n_zeros+n_ones))\n",
    "\n",
    "plot_histogram(counts)"
   ]
  },
  {
   "cell_type": "markdown",
   "id": "b77eeddf-2786-454d-8046-fd5bd14c4569",
   "metadata": {},
   "source": [
    "A mérések közel fele adott 0-ás eredményt a másik fele pedig 1-es eredményt. <br>\n",
    "A most létrehozott áramkörünk valójában egy 'fair coin', amely 50\\%-50\\% valószínűséggel ad fejet vagy írást.<br>"
   ]
  },
  {
   "cell_type": "markdown",
   "id": "bf18ec58-9bb9-479c-8a7e-f6d263a5b4e7",
   "metadata": {},
   "source": [
    "## Feladatok"
   ]
  },
  {
   "cell_type": "markdown",
   "id": "39a7328f-1292-4a97-93df-d53fb8ce0961",
   "metadata": {},
   "source": [
    "### 1. Egy qubites áramkör több kapuval <br>\n",
    "<ol>\n",
    "<li>Hozzunk létre egy kvantumáramkört 1 darab qubittel és 1 darab klasszikus bittel</li>\n",
    "<li>Hassunk a qubitre a következő kapukkal (ilyen sorrendben): H, X, H</li>\n",
    "<li>Mérjük meg az áramkört (measure parancs) és hajtsuk végre a mérést (execute parancs) 1024-szer.</li>\n",
    "<li>Ábrázoljuk a mérési eredményeket hisztogrammon (plot_histogram)</li>\n",
    "<li>Értelmezzük az eredményt.</li>\n",
    "</ol>\n",
    "\n",
    "\n",
    "Segítség: Az X kaput a Qiskit-ben 'x'-el jelöljük. <br>\n",
    "Pl.: circuit.x(0) egy X kaput hattat az első qubiten."
   ]
  },
  {
   "cell_type": "code",
   "execution_count": null,
   "id": "1c2a625e-1e4d-4658-8b09-4b9ac7f2f2cc",
   "metadata": {},
   "outputs": [],
   "source": [
    "# a megoldásod helye\n",
    "#\n",
    "#\n",
    "#"
   ]
  },
  {
   "cell_type": "markdown",
   "id": "e29a2c3f-1819-41bd-b23f-bc81eee525ef",
   "metadata": {},
   "source": [
    "### 2. Több qubites áramkör (haladó)<br>\n",
    "<ol>\n",
    "<li> Próbáljuk meg értelmezni az alábbi több qubites áramkör rajzát.</li>\n",
    "<li> Lehetne-e esetleg valahol egyszerűsíteni az áramkört? </li>\n",
    "<li> Próbáljuk meg reprodukálni az egyszerűsített áramkört (vagy az eredetit) és rajzoljuk is ki azt.</li>\n",
    "</ol>\n",
    "\n",
    "Segítség: A CNOT kapu-nak két paramétere van (hiszen egy két qubites kapu). <br>\n",
    "A Qiskitben ezt a következőképpen használjuk: circuit.cx(target_qubit,control_qubit), <br>\n",
    "ahol target_qubit és control_qubit az áramkörben lévő qubitek sorszámait jelentik, amelyekre hattatjuk a CNOT kaput. <br>\n",
    "Pl.: target_qubit $=$ 0, control_qubit $=$ 1 $\\rightarrow$ circuit.cx(0,1)"
   ]
  },
  {
   "cell_type": "markdown",
   "id": "ee0a33be-9154-44be-a3c3-dcb40b180fd9",
   "metadata": {},
   "source": [
    "<img src=\"2ndexercise_circuit_figure.png\" width=\"600\">"
   ]
  },
  {
   "cell_type": "code",
   "execution_count": null,
   "id": "7ce91ac4-1a91-4376-824c-5ca8e6051ff2",
   "metadata": {},
   "outputs": [],
   "source": [
    "# a megoldásod helye\n",
    "#\n",
    "#\n",
    "#"
   ]
  },
  {
   "cell_type": "markdown",
   "id": "ed8916db-c23c-4086-8d28-4f8017aad1da",
   "metadata": {},
   "source": [
    "#### Honnan fogom megtudni, hogy melyik kapu hogyan működik Qiskit-ben?\n",
    "Szerencsére a Qiskit fejlesztői egy meglehetősen informatív dokumentációval segítik a tanulnivágyók dolgát.<br>\n",
    "További információkért látogasd meg a Qiskit hivatalos oldalán elérhető dokumentációt:<br>\n",
    "__[Egy qubites kapuk Qiskit-ben](https://qiskit.org/textbook/ch-states/single-qubit-gates.html)__ "
   ]
  }
 ],
 "metadata": {
  "kernelspec": {
   "display_name": "Python 3 (ipykernel)",
   "language": "python",
   "name": "python3"
  },
  "language_info": {
   "codemirror_mode": {
    "name": "ipython",
    "version": 3
   },
   "file_extension": ".py",
   "mimetype": "text/x-python",
   "name": "python",
   "nbconvert_exporter": "python",
   "pygments_lexer": "ipython3",
   "version": "3.8.12"
  }
 },
 "nbformat": 4,
 "nbformat_minor": 5
}
