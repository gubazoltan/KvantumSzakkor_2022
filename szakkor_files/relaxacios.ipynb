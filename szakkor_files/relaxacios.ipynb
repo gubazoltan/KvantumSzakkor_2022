{
 "cells": [
  {
   "cell_type": "markdown",
   "id": "3cdb147b",
   "metadata": {},
   "source": [
    "$\\newcommand{\\ket}[1]{|#1\\rangle}$"
   ]
  },
  {
   "cell_type": "code",
   "execution_count": null,
   "id": "55f76f1a",
   "metadata": {},
   "outputs": [],
   "source": [
    "from qiskit import QuantumCircuit, execute, Aer, IBMQ\n",
    "from qiskit.compiler import transpile, assemble\n",
    "from qiskit.tools.jupyter import *\n",
    "from qiskit.visualization import *\n",
    "import matplotlib.pyplot as plt\n",
    "from scipy.optimize import curve_fit\n",
    "import numpy as np\n",
    "\n",
    "provider = IBMQ.load_account()\n",
    "backend = provider.get_backend('ibmq_santiago') #töltsd be a kiválasztott gépet"
   ]
  },
  {
   "cell_type": "markdown",
   "id": "5b479b4c",
   "metadata": {},
   "source": [
    "# Projekt: Relaxációs idő kimérése"
   ]
  },
  {
   "cell_type": "markdown",
   "id": "df982768",
   "metadata": {},
   "source": [
    "A qubitek kölcsönhatnak a környezetükkel, ezért a bennük tárolt kvantuminformáció fokozatosan eltűnik. Szupravezető qubitek esetében a legjelentősebb külső kölcsönhatások a qubitek abszorpciója és emissziója. Abszorpció akkor következik be, amikor a qubit a környezetéből elnyel egy fotont és a $\\ket{0}$ állapotból az $\\ket{1}$ állapotba kerül. Emisszió során pedig a qubit kibocsájt egy fotont és az $\\ket{1}$ állapotból a $\\ket{0}$ állapotba kerül. Ezeknek a folyamatoknak a bekövetkezési valószínűsége függ a hőmérséklettől, ezért minél alacsonyabb hőmérsékleten van a qubit, annál tovább képes megtartani a benne kódolt kvantuminformációt.\n",
    "\n",
    "### Relaxációs idő\n",
    "\n",
    "A fentebb ismertetett folyamatok miatt, ha egy qubitet beállítunk az $\\ket{1}$ állapotba 0 Kelvinhez közeli hőmérsékleten, akkor egy idő után a qubit relaxálódni fog a $\\ket{0}$ állapotba. Annak a valószínűsége, hogy a qubitet az $\\ket{1}$ állapotban találjuk idővel exponenciálisan csökken $$P(t) = a e^{-t/T_1} + b,$$\n",
    "ahol $P(t)$ annak a valószínűsége, hogy a qubitet $t$ idő után az $\\ket{1}$ állapotban találjuk, $T_1$ a qubitre jellemző relaxációs idő, $a$ és $b$ paraméterek pedig a qubitre, hőmérsékletre és a kiolvasásra jellemző egyéb konstansok.\n",
    "\n",
    "Az IBM kvantumszámítógépeinek qubitjei egy 10-20 mK hőméréskletű hűtőben vannak elhelyezve, és a relaxációs idejük tipikus értéke 100 mikroszekundum. Ez azt jelenti, hogy körülbelül ennyi ideig lehet a qubiteket érdemlegesen használni egy kvantumalgortimus során, ami egy elég komoly limitáció, és ez az egyik oka annak, hogy a jelenlegi kvantumszámítógépek nem képesek elérni a teljes potenciáljukat.\n",
    "\n",
    "### Mérés menete\n",
    "\n",
    "A relaxációs idő meghatározásához a qubitet az $\\ket{1}$ állapotba helyezzük majd $t$ idő után megmérjük a qubit állapotát.\n",
    "Ha egy adott $t$ mérési idővel ezt a mérést sokszor megismételjük, akkor az eredményekből megtudjuk határozni annak valószínűsgét, hogy $t$ idő után a qubitet az $\\ket{1}$ állapotban találjuk, így keletkezik egy idő-valószínűség adatpárunk. Ha ezzel a módszerrel kellően sok idő-valószínűség adatpárt kimérünk, meg tudjuk határozni a relaxációs időt a $$P(t) = a e^{-t/T_1} + b$$\n",
    "képlet alapján.\n",
    "\n",
    "### Adatok kiértékelése\n",
    "\n",
    "A mérések elvégézése után rendelkezésünkre állnak idő-valószínűség adatpárok. Ha ábrázoljuk az adatpontokat, akkor egy exponenciálisan lecsengő függvényt kell látnunk. Ahhoz, hogy meghatározzuk a relaxációs időt, meg kell találni azokat a $a$, $b$ és $T_1$ paramétereket amelyek esetében a $P(t) = a e^{-t/T_1} + b$ függvény legjobban illeszkedik az adatpontokra."
   ]
  },
  {
   "cell_type": "markdown",
   "id": "b063925f",
   "metadata": {},
   "source": [
    "## Projekt feladatok"
   ]
  },
  {
   "cell_type": "markdown",
   "id": "8b2a440b",
   "metadata": {},
   "source": [
    "Fejezd be a `meas_circuit` függvényt ami létrehozza a mérőáramkört! A függvény bemenete legyen a mérési idő $t$ mikroszekundumban, és a kimenete egy kvantumáramkör ami a qubitet az $\\ket{1}$ állapotba állítja majd $t$ idő után végrehajt egy mérést a qubiten. A függvény vázát lásd lentebb. Használd a [delay](https://qiskit.org/documentation/stubs/qiskit.circuit.QuantumCircuit.delay.html) instrukciót a mérési idő beállításához. Állítsd be, hogy az időt mikroszkendumban értelmezze a delay instrukció."
   ]
  },
  {
   "cell_type": "code",
   "execution_count": null,
   "id": "499d0f05",
   "metadata": {},
   "outputs": [],
   "source": [
    "def meas_circuit(t):\n",
    "    qc = QuantumCircuit(1, 1) #egy qubites kvantumáramkör egy klasszikus bittel\n",
    "    #megoldás ide\n",
    "    return qc"
   ]
  },
  {
   "cell_type": "markdown",
   "id": "16721012",
   "metadata": {},
   "source": [
    "Válassz ki ötven darab különböző mérési időt. Probáld úgy választani őket, hogy egyenletesen lefedjék a 0-300 mikroszekundumos intervallumot. A kiválasztott mérési időket tárold el egy python listában."
   ]
  },
  {
   "cell_type": "code",
   "execution_count": null,
   "id": "d96c8982",
   "metadata": {},
   "outputs": [],
   "source": [
    "#megoldás ide"
   ]
  },
  {
   "cell_type": "markdown",
   "id": "4e3db8ce",
   "metadata": {},
   "source": [
    "Futtasd le a `measure_T1` függvényt, ami létrehozza a mérőáramköröket és lefuttatja azokat a kiválasztott gépen. A függvény első argumentuma az előbb létrehozott python lista, ami a mérési intervallumokat tartalmazza, a második argument pedig azt adja meg, hogy az egyes mérőáramköröket hányszor futtasa le a kvantumszámítógép. A második argumentum legyen egy 4096 és 8192 közötti érték. A függvény kimenete egy IBMQJob munkafolyamat ezt tárold egy változóban."
   ]
  },
  {
   "cell_type": "code",
   "execution_count": null,
   "id": "1b993f4a",
   "metadata": {},
   "outputs": [],
   "source": [
    "def measure_T1(meas_intervals, shots):\n",
    "    meas_circuits = [meas_circuit(t) for t in meas_intervals]\n",
    "    trans_meas_circuits = transpile(meas_circuits, backend = backend, optimization_level = 0, scheduling_method='alap')\n",
    "    job = backend.run(trans_meas_circuits, shots = shots)\n",
    "    return job"
   ]
  },
  {
   "cell_type": "code",
   "execution_count": null,
   "id": "10438eef",
   "metadata": {},
   "outputs": [],
   "source": [
    "#megoldás ide"
   ]
  },
  {
   "cell_type": "markdown",
   "id": "c47bdd32",
   "metadata": {},
   "source": [
    "Ha sikerült lefuttatnod a `measure_T1` függvényt ellenőrizd le az IBM Q weboldalán, hogy a munkafolyamat megjelent a Jobs fülnél! Várd meg amíg le fut a munkafolyamat, ez akár órákba is telhet.\n",
    "\n",
    "Amíg várakozol egészítsd ki a `get_probs` függvényt, aminek a bemenete a `measure_T1` függvény által létrehozott munkafolyamat, és a visszatérési értéke egy lista ami az $\\ket{1}$ mérési kimenet valószínűségeit tartalmazza."
   ]
  },
  {
   "cell_type": "code",
   "execution_count": null,
   "id": "e21152cb",
   "metadata": {},
   "outputs": [],
   "source": [
    "def get_probs(job):\n",
    "    probs = []\n",
    "    for c in job.result().get_counts():\n",
    "        one_count = c['1'] # az |1> mérési kimenetek száma\n",
    "        zero_count = c['0'] # a |0> mérési kimenetek száma\n",
    "        #számold ki a one_count és zero_count változók segítségével annak a valószínűsgét, hogy a mérési eredmény |1>\n",
    "        P = #megoldásod ide\n",
    "        probs.append(P) #a kiszámolt valószínűséget a probs lista végéhez fűzi\n",
    "    return probs #visszatér a valószínűségekkel"
   ]
  },
  {
   "cell_type": "markdown",
   "id": "b4747f7f",
   "metadata": {},
   "source": [
    "Miután lefutott a munkafolyamat, futtasd le a `get_probs` függvényt! A matplotlib csomag scatter függvénye segítségével ábrázold a mért valószínűségeket a mérési idő függvényében!"
   ]
  },
  {
   "cell_type": "code",
   "execution_count": null,
   "id": "be345a69",
   "metadata": {},
   "outputs": [],
   "source": [
    "#megoldás ide"
   ]
  },
  {
   "cell_type": "markdown",
   "id": "68b0a322",
   "metadata": {},
   "source": [
    "A `fit_exp` függvény segítségével meg lehet keresni az ideális $a$, $b$ és $T_1$ paramétereket, amikre a $P(t) = a e^{-t/T_1} + b$ függvény a legjobban illeszkedik az adatpontokra. A függvény első argumentuma a kiválasztott mérési időket tartalmazó lista, a második argumentum pedig a kiszámolt valószínűségeket tartalmazó lista. A többi argumentum opcionális, ideális esetben ezekkel nem kell foglalkozni. A függvény visszatérési értéke egy három elemű lista aminek az elemei sorrendben az $a$, $b$, és $T_1$ paraméterek optimális értéke.\n",
    "\n",
    "A `fit_exp` függvénnyel határozd meg a $T_1$ relaxációs időt a mért adatok alapján! Készíts még egy ábrát amin láthatóak a mért adatpontok illetve az illesztett függvény!"
   ]
  },
  {
   "cell_type": "code",
   "execution_count": null,
   "id": "9cac0be6",
   "metadata": {},
   "outputs": [],
   "source": [
    "def P(t, a, b, T1):\n",
    "    return a * np.exp(-t / T1) + b\n",
    "    \n",
    "def fit_exp(meas_intervals, probs, a = 1, b = 0, T1 = 100): \n",
    "    p, c = curve_fit(P, meas_intervals, probs, p0 = [a, b, T1])\n",
    "    return p"
   ]
  },
  {
   "cell_type": "code",
   "execution_count": null,
   "id": "787d0a96",
   "metadata": {},
   "outputs": [],
   "source": [
    "#megoldás ide"
   ]
  }
 ],
 "metadata": {
  "kernelspec": {
   "display_name": "Python 3",
   "language": "python",
   "name": "python3"
  },
  "language_info": {
   "codemirror_mode": {
    "name": "ipython",
    "version": 3
   },
   "file_extension": ".py",
   "mimetype": "text/x-python",
   "name": "python",
   "nbconvert_exporter": "python",
   "pygments_lexer": "ipython3",
   "version": "3.9.5"
  },
  "widgets": {
   "application/vnd.jupyter.widget-state+json": {
    "state": {
     "01e9fada4b5c483f9529f484b69b2c85": {
      "model_module": "@jupyter-widgets/controls",
      "model_module_version": "1.5.0",
      "model_name": "DescriptionStyleModel",
      "state": {
       "description_width": ""
      }
     },
     "03baa0b222424a5e9bf658f8a9561286": {
      "model_module": "@jupyter-widgets/controls",
      "model_module_version": "1.5.0",
      "model_name": "DescriptionStyleModel",
      "state": {
       "description_width": ""
      }
     },
     "0cf0e50d80cf434b95114c7c1e65d943": {
      "model_module": "@jupyter-widgets/base",
      "model_module_version": "1.2.0",
      "model_name": "LayoutModel",
      "state": {
       "margin": "0px 0px 0px 37px",
       "width": "600px"
      }
     },
     "0f68a7014b3b4997984aaf50fb4ac2eb": {
      "model_module": "@jupyter-widgets/controls",
      "model_module_version": "1.5.0",
      "model_name": "ButtonStyleModel",
      "state": {}
     },
     "12d7c3af08184914a1cddb1b3b04ecb2": {
      "model_module": "@jupyter-widgets/controls",
      "model_module_version": "1.5.0",
      "model_name": "DescriptionStyleModel",
      "state": {
       "description_width": ""
      }
     },
     "1324b2bcddb3405093e2afce1769a66e": {
      "model_module": "@jupyter-widgets/controls",
      "model_module_version": "1.5.0",
      "model_name": "HBoxModel",
      "state": {
       "children": [
        "IPY_MODEL_41a0107070ce47039bdcbdc4c3bd773b",
        "IPY_MODEL_efe8a7fbb096442fb150f9d0b5ec1d78",
        "IPY_MODEL_8f02ca5551e64ef88e65eedd63e04a4b",
        "IPY_MODEL_24861457732749b69814dc89f2fd1efb",
        "IPY_MODEL_e98acfceb87f4111a8f7da80f75b2161",
        "IPY_MODEL_c64b0901e3fd49e7bf6acc1359a9bd43"
       ],
       "layout": "IPY_MODEL_3af102d07423462b96252c9451a34bbc"
      }
     },
     "24861457732749b69814dc89f2fd1efb": {
      "model_module": "@jupyter-widgets/controls",
      "model_module_version": "1.5.0",
      "model_name": "HTMLModel",
      "state": {
       "layout": "IPY_MODEL_886d9046fec840efaccdb5f77a7c82e1",
       "style": "IPY_MODEL_a1e104fc19d042e4ab17dd668fc3f701",
       "value": "<font style='color:#34BC6E'>DONE</font>"
      }
     },
     "337decfc7f5f42e2b0d3ba3a01a58f4b": {
      "model_module": "@jupyter-widgets/base",
      "model_module_version": "1.2.0",
      "model_name": "LayoutModel",
      "state": {
       "grid_area": "right",
       "padding": "0px 0px 0px 0px",
       "width": "70px"
      }
     },
     "36c7b694ee5e481b9de38099f812ad71": {
      "model_module": "@jupyter-widgets/base",
      "model_module_version": "1.2.0",
      "model_name": "LayoutModel",
      "state": {
       "width": "190px"
      }
     },
     "399d9cefd6b04b49bdcdfccfdf40d740": {
      "model_module": "@jupyter-widgets/controls",
      "model_module_version": "1.5.0",
      "model_name": "HTMLModel",
      "state": {
       "layout": "IPY_MODEL_3fd9549a252940398c9638f98d06364a",
       "style": "IPY_MODEL_01e9fada4b5c483f9529f484b69b2c85",
       "value": "<p style='font-family: IBM Plex Sans, Arial, Helvetica, sans-serif; font-size: 20px; font-weight: medium;'>Circuit Properties</p>"
      }
     },
     "3af102d07423462b96252c9451a34bbc": {
      "model_module": "@jupyter-widgets/base",
      "model_module_version": "1.2.0",
      "model_name": "LayoutModel",
      "state": {
       "max_width": "700px",
       "min_width": "700px"
      }
     },
     "3af25fe1cfd946b68135eb977cf05b6e": {
      "model_module": "@jupyter-widgets/controls",
      "model_module_version": "1.5.0",
      "model_name": "DescriptionStyleModel",
      "state": {
       "description_width": ""
      }
     },
     "3e828f07c8dd49a4b00924f0db7a2874": {
      "model_module": "@jupyter-widgets/base",
      "model_module_version": "1.2.0",
      "model_name": "LayoutModel",
      "state": {
       "grid_template_areas": "\n                                       \". . . . right \"\n                                        ",
       "grid_template_columns": "20% 20% 20% 20% 20%",
       "width": "100%"
      }
     },
     "3fd9549a252940398c9638f98d06364a": {
      "model_module": "@jupyter-widgets/base",
      "model_module_version": "1.2.0",
      "model_name": "LayoutModel",
      "state": {
       "margin": "0px 0px 10px 0px"
      }
     },
     "41a0107070ce47039bdcbdc4c3bd773b": {
      "model_module": "@jupyter-widgets/controls",
      "model_module_version": "1.5.0",
      "model_name": "ButtonModel",
      "state": {
       "icon": "close",
       "layout": "IPY_MODEL_b45fd161a4674cfd97e12022ad5e65ee",
       "style": "IPY_MODEL_c30e4abe51bd4479af83649e535f6caa"
      }
     },
     "51727c7325324332b8c9de50ab37f1b8": {
      "model_module": "@jupyter-widgets/base",
      "model_module_version": "1.2.0",
      "model_name": "LayoutModel",
      "state": {
       "width": "70px"
      }
     },
     "53eb8ea9563b4206970a799ded2e5afb": {
      "model_module": "@jupyter-widgets/controls",
      "model_module_version": "1.5.0",
      "model_name": "HBoxModel",
      "state": {
       "children": [
        "IPY_MODEL_687de92599ca413ba22dac869a969589",
        "IPY_MODEL_bc514ebc0bd24fdc8994e83278e8da9e",
        "IPY_MODEL_bf3d89b693f24b19bf6661190eb3ce19",
        "IPY_MODEL_916b1f23f5df41cc9c42b7ad73147794",
        "IPY_MODEL_66956686dfec426cbe85781128da52fa"
       ],
       "layout": "IPY_MODEL_0cf0e50d80cf434b95114c7c1e65d943"
      }
     },
     "541a0ec86d0a4c12aecd087720593aa8": {
      "model_module": "@jupyter-widgets/controls",
      "model_module_version": "1.5.0",
      "model_name": "DescriptionStyleModel",
      "state": {
       "description_width": ""
      }
     },
     "61a1b9c8d0354d41b16718d5726da3f1": {
      "model_module": "@jupyter-widgets/base",
      "model_module_version": "1.2.0",
      "model_name": "LayoutModel",
      "state": {
       "overflow_x": "scroll"
      }
     },
     "66956686dfec426cbe85781128da52fa": {
      "model_module": "@jupyter-widgets/controls",
      "model_module_version": "1.5.0",
      "model_name": "HTMLModel",
      "state": {
       "layout": "IPY_MODEL_6803c943d4b04614971e8f339791fad2",
       "style": "IPY_MODEL_a8d70ab24fe0425ebbe44a9198a8888a",
       "value": "<h5>Message</h5>"
      }
     },
     "6803c943d4b04614971e8f339791fad2": {
      "model_module": "@jupyter-widgets/base",
      "model_module_version": "1.2.0",
      "model_name": "LayoutModel",
      "state": {}
     },
     "687de92599ca413ba22dac869a969589": {
      "model_module": "@jupyter-widgets/controls",
      "model_module_version": "1.5.0",
      "model_name": "HTMLModel",
      "state": {
       "layout": "IPY_MODEL_36c7b694ee5e481b9de38099f812ad71",
       "style": "IPY_MODEL_541a0ec86d0a4c12aecd087720593aa8",
       "value": "<h5>Job ID</h5>"
      }
     },
     "7f25aebefaef487fbba8097bf2cebcd7": {
      "model_module": "@jupyter-widgets/controls",
      "model_module_version": "1.5.0",
      "model_name": "DescriptionStyleModel",
      "state": {
       "description_width": ""
      }
     },
     "833f6b21daaa43f8a421c321f2f9e4c2": {
      "model_module": "@jupyter-widgets/controls",
      "model_module_version": "1.5.0",
      "model_name": "GridBoxModel",
      "state": {
       "children": [
        "IPY_MODEL_8ee3e9c1079648699fb0d03b7dc3141a"
       ],
       "layout": "IPY_MODEL_3e828f07c8dd49a4b00924f0db7a2874"
      }
     },
     "85e43426e2644c64b0cd24ba73655c84": {
      "model_module": "@jupyter-widgets/base",
      "model_module_version": "1.2.0",
      "model_name": "LayoutModel",
      "state": {
       "width": "145px"
      }
     },
     "886d9046fec840efaccdb5f77a7c82e1": {
      "model_module": "@jupyter-widgets/base",
      "model_module_version": "1.2.0",
      "model_name": "LayoutModel",
      "state": {
       "width": "95px"
      }
     },
     "8ee3e9c1079648699fb0d03b7dc3141a": {
      "model_module": "@jupyter-widgets/controls",
      "model_module_version": "1.5.0",
      "model_name": "ButtonModel",
      "state": {
       "button_style": "primary",
       "description": "Clear",
       "layout": "IPY_MODEL_337decfc7f5f42e2b0d3ba3a01a58f4b",
       "style": "IPY_MODEL_0f68a7014b3b4997984aaf50fb4ac2eb"
      }
     },
     "8f02ca5551e64ef88e65eedd63e04a4b": {
      "model_module": "@jupyter-widgets/controls",
      "model_module_version": "1.5.0",
      "model_name": "HTMLModel",
      "state": {
       "layout": "IPY_MODEL_cf1e3febad544632bed5537436f3a70c",
       "style": "IPY_MODEL_3af25fe1cfd946b68135eb977cf05b6e",
       "value": "ibmq_santiago"
      }
     },
     "916b1f23f5df41cc9c42b7ad73147794": {
      "model_module": "@jupyter-widgets/controls",
      "model_module_version": "1.5.0",
      "model_name": "HTMLModel",
      "state": {
       "layout": "IPY_MODEL_feefc8ea53044f8f9ff36781f7bc97c7",
       "style": "IPY_MODEL_fff5202111ff4e93a098544f43c69b2e",
       "value": "<h5>Queue</h5>"
      }
     },
     "977ff6aa03b64fc2b6f09b9c13917244": {
      "model_module": "@jupyter-widgets/base",
      "model_module_version": "1.2.0",
      "model_name": "LayoutModel",
      "state": {
       "width": "95px"
      }
     },
     "a1e104fc19d042e4ab17dd668fc3f701": {
      "model_module": "@jupyter-widgets/controls",
      "model_module_version": "1.5.0",
      "model_name": "DescriptionStyleModel",
      "state": {
       "description_width": ""
      }
     },
     "a8d70ab24fe0425ebbe44a9198a8888a": {
      "model_module": "@jupyter-widgets/controls",
      "model_module_version": "1.5.0",
      "model_name": "DescriptionStyleModel",
      "state": {
       "description_width": ""
      }
     },
     "b45fd161a4674cfd97e12022ad5e65ee": {
      "model_module": "@jupyter-widgets/base",
      "model_module_version": "1.2.0",
      "model_name": "LayoutModel",
      "state": {
       "margin": "0px 5px 0px 0px",
       "width": "32px"
      }
     },
     "bc514ebc0bd24fdc8994e83278e8da9e": {
      "model_module": "@jupyter-widgets/controls",
      "model_module_version": "1.5.0",
      "model_name": "HTMLModel",
      "state": {
       "layout": "IPY_MODEL_85e43426e2644c64b0cd24ba73655c84",
       "style": "IPY_MODEL_03baa0b222424a5e9bf658f8a9561286",
       "value": "<h5>Backend</h5>"
      }
     },
     "be44656b75c2490fab60a7cf4ad29f6f": {
      "model_module": "@jupyter-widgets/controls",
      "model_module_version": "1.5.0",
      "model_name": "DescriptionStyleModel",
      "state": {
       "description_width": ""
      }
     },
     "bf3d89b693f24b19bf6661190eb3ce19": {
      "model_module": "@jupyter-widgets/controls",
      "model_module_version": "1.5.0",
      "model_name": "HTMLModel",
      "state": {
       "layout": "IPY_MODEL_977ff6aa03b64fc2b6f09b9c13917244",
       "style": "IPY_MODEL_7f25aebefaef487fbba8097bf2cebcd7",
       "value": "<h5>Status</h5>"
      }
     },
     "c30e4abe51bd4479af83649e535f6caa": {
      "model_module": "@jupyter-widgets/controls",
      "model_module_version": "1.5.0",
      "model_name": "ButtonStyleModel",
      "state": {
       "button_color": "white"
      }
     },
     "c64b0901e3fd49e7bf6acc1359a9bd43": {
      "model_module": "@jupyter-widgets/controls",
      "model_module_version": "1.5.0",
      "model_name": "HTMLModel",
      "state": {
       "layout": "IPY_MODEL_61a1b9c8d0354d41b16718d5726da3f1",
       "style": "IPY_MODEL_cfdb3c80b1d64ca798fd5890e9039ce0",
       "value": "job has successfully run"
      }
     },
     "cf1e3febad544632bed5537436f3a70c": {
      "model_module": "@jupyter-widgets/base",
      "model_module_version": "1.2.0",
      "model_name": "LayoutModel",
      "state": {
       "width": "145px"
      }
     },
     "cfdb3c80b1d64ca798fd5890e9039ce0": {
      "model_module": "@jupyter-widgets/controls",
      "model_module_version": "1.5.0",
      "model_name": "DescriptionStyleModel",
      "state": {
       "description_width": ""
      }
     },
     "e16ee70a61ac4c7485eb63850acb9665": {
      "model_module": "@jupyter-widgets/base",
      "model_module_version": "1.2.0",
      "model_name": "LayoutModel",
      "state": {
       "width": "190px"
      }
     },
     "e98acfceb87f4111a8f7da80f75b2161": {
      "model_module": "@jupyter-widgets/controls",
      "model_module_version": "1.5.0",
      "model_name": "HTMLModel",
      "state": {
       "layout": "IPY_MODEL_51727c7325324332b8c9de50ab37f1b8",
       "style": "IPY_MODEL_12d7c3af08184914a1cddb1b3b04ecb2",
       "value": "-"
      }
     },
     "efe8a7fbb096442fb150f9d0b5ec1d78": {
      "model_module": "@jupyter-widgets/controls",
      "model_module_version": "1.5.0",
      "model_name": "HTMLModel",
      "state": {
       "layout": "IPY_MODEL_e16ee70a61ac4c7485eb63850acb9665",
       "style": "IPY_MODEL_be44656b75c2490fab60a7cf4ad29f6f",
       "value": "6240d0485b322ca7ba4976a5"
      }
     },
     "feefc8ea53044f8f9ff36781f7bc97c7": {
      "model_module": "@jupyter-widgets/base",
      "model_module_version": "1.2.0",
      "model_name": "LayoutModel",
      "state": {
       "width": "70px"
      }
     },
     "fff5202111ff4e93a098544f43c69b2e": {
      "model_module": "@jupyter-widgets/controls",
      "model_module_version": "1.5.0",
      "model_name": "DescriptionStyleModel",
      "state": {
       "description_width": ""
      }
     }
    },
    "version_major": 2,
    "version_minor": 0
   }
  }
 },
 "nbformat": 4,
 "nbformat_minor": 5
}
