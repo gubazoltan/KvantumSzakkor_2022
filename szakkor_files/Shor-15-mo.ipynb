{
 "cells": [
  {
   "cell_type": "code",
   "execution_count": 4,
   "metadata": {},
   "outputs": [
    {
     "name": "stderr",
     "output_type": "stream",
     "text": [
      "ibmqfactory.load_account:WARNING:2022-03-29 14:26:23,410: Credentials are already in use. The existing account in the session will be replaced.\n"
     ]
    }
   ],
   "source": [
    "# Importing standard Qiskit libraries\n",
    "from qiskit import QuantumCircuit, execute, Aer, IBMQ, QuantumRegister\n",
    "from qiskit.compiler import transpile, assemble\n",
    "from qiskit.tools.jupyter import *\n",
    "from qiskit.visualization import *\n",
    "from ibm_quantum_widgets import *\n",
    "\n",
    "\n",
    "import numpy as np\n",
    "import qiskit as qk\n",
    "\n",
    "from fractions import Fraction\n",
    "from qiskit.providers.ibmq import least_busy\n",
    "from qiskit.tools.monitor import job_monitor\n",
    "\n",
    "\n",
    "# Loading your IBM Q account(s)\n",
    "provider = IBMQ.load_account()"
   ]
  },
  {
   "cell_type": "code",
   "execution_count": 8,
   "metadata": {},
   "outputs": [
    {
     "name": "stdout",
     "output_type": "stream",
     "text": [
      "ibmq_quito\n"
     ]
    }
   ],
   "source": [
    "simulator = qk.BasicAer.get_backend('qasm_simulator')\n",
    "real = least_busy(provider.backends(filters=lambda x: x.configuration().n_qubits > 4,\n",
    "                                            operational=True, simulator=False))\n",
    "\n",
    "'''Sajnos az elérhető kvantum gépek közül 5 qubites a legnagyobb, így a legtöbb kódot\n",
    "csak a szimulátoron lehet majd kipróbálni. Ráadásul az áramkörök túl hosszúak lesznek ahhoz, hogy az igazi kvantumgépeken\n",
    "hiba nélkül lefussanak, úgyhogy mindig a szimulátort érdemes használni, az igazi kvantumgépek teljesen rossz eredményt\n",
    "fognak adni.'''\n",
    "\n",
    "print(real)"
   ]
  },
  {
   "cell_type": "markdown",
   "metadata": {},
   "source": [
    "# Shor-algoritmus\n",
    "A Shor-algoritmus egy kvantumalgoritmus, ami egy $N$ egész számot bont fel prímtényezőire. A Shor-algoritmus nagy számokat jóval kevesebb művelet segítségével tud felbontani prímtényezőkre, mint a klasszikus számítógépeken futtatható algoritmusok. Az algoritmus azért fontos a gyakorlatban, mert sok titkosítási eljárás arra épül, hogy nagy számokat klasszikus számítógép segítségével rengeteg időbe telik felbontani. Egy ilyen titkosítási eljárásra épülő rendszert a Shor-algoritmus segítségével fel lehetne törni, ha lenne egy működőképes kvantumszámítógépünk."
   ]
  },
  {
   "cell_type": "markdown",
   "metadata": {},
   "source": [
    "### Perióduskeresés\n",
    "\n",
    "A Shor-algoritmus arra épül, hogy a prímtényezők keresése visszavezethető az perióduskeresés problémájára, amit kvantumszámítógép segítségével ,,gyorsan'' el tudunk végezni.<br>\n",
    "A perióduskeresés problémája a következő: Adott egy $N$ egész szám (ezt szeretnénk majd később prímtényezőkre bontani), illetve egy $a<N$ egész szám, melyekre igaz, hogy $\\text{lnko}(a, N)=1$. ($\\text{lnko}(a, N)$ az $a$ és $N$ számok legnagyobb közös osztóját jelöli.) Szeretnénk megtalálni azt a legkisebb $r$ számot, amire igaz, hogy $a^r = 1$ $\\text{mod} $ $N$, azaz $a^n$-nek az $N$ szerinti maradéka 1."
   ]
  },
  {
   "cell_type": "markdown",
   "metadata": {},
   "source": [
    "**1. feladat**\n",
    "\n",
    "Írjunk egy kódot, ami megkeresi az $a=7$ szám $N=15$ szerinti periódusát. (Papíron könnyen ellenőrizhetjük, hogy jó eredményt kaptunk-e.) <br>Maximum hány darab szorzást kell elvégeznie egy klasszikus számítógépnek, hogy kiszámolja az $r$ periódust egy tetszőleges $N$ szám esetén? <br>\n",
    "Megjegyzés: A Shor-algoritmus futtatásakor pontosan ez az a művelet, amit a kvantumszámítógép végez el. "
   ]
  },
  {
   "cell_type": "code",
   "execution_count": 12,
   "metadata": {},
   "outputs": [
    {
     "name": "stdout",
     "output_type": "stream",
     "text": [
      "4\n"
     ]
    }
   ],
   "source": [
    "# megoldás helye\n",
    "\n",
    "a = 7\n",
    "N = 15\n",
    "\n",
    "m = 1\n",
    "r = 0\n",
    "while m != 1 or r == 0:\n",
    "    m = m*a%N\n",
    "    r+=1\n",
    "\n",
    "print(r)"
   ]
  },
  {
   "cell_type": "markdown",
   "metadata": {},
   "source": [
    "### Prímtényező keresése a periódus segítségével"
   ]
  },
  {
   "cell_type": "markdown",
   "metadata": {},
   "source": [
    "**1. Állítás**: Legyen $r$ az $N$ szám $a$ szerinti periódusa. Ha $r$ páros és $r \\not= a^{r/2}$ $\\text{mod}$ n, akkor vagy $\\text{lnko}(a^{r/2}-1, N)$, vagy $\\text{lnko}(a^{r/2}-1, N)$ nem triviális osztója $N$-nek. (Azt az osztót hívjuk $N$ nem triviális osztójának, ami nem $N$ és nem 1.)<br><br> \n",
    "\n",
    "**2. feladat (szorgalmi)** \n",
    "\n",
    "Lássuk be a fenti állítást.<br><br>\n",
    "\n",
    "**Megjegyzés**: Belátható, hogy ha véletlenszerűen választunk egy $a$ számot, akkor az $a$ szám $N$ szerinti periódusa ,,kellően nagy\" valószínűséggel teljesíti az 1. Állítás feltételeit, tehát  kellően nagy valószínűséggel találunk egy osztót."
   ]
  },
  {
   "cell_type": "markdown",
   "metadata": {},
   "source": [
    "### Perióduskeresés kvantumszámítógéppel\n",
    "\n",
    "Az alábbi képen az az áramkör látható, amivel meg tudjuk keresni az $a$ szám $N$ szerinti periódusát. Az $N$ szám tárolásához szükséges bitek számát $n$ jelöli. Az áramkör $3n$ qubitet használ.  A felső $k = 2n$ qubit úgynevezett kontroll qubit. Speciális esetben ennél kevesebb kontroll qubit is elég, ahogy ezt látni fogjuk a lenti példán. Az alsó $n$ qubiten tárolt számot hívjuk $b$-nek, kezdetben $b=1$. Az ábrán látható $U_a$-val jelölt kapuk $a$-val modulo $N$ szorzó kapuk. A Shor-algoritmus futtatásakor ezek létrehozása  a legnehezebb és egyben a legerőforrásigényesebb feladat. Az áramkör a következő lépésekből épül fel: Először a kontroll qubitekre Hadamard kapukkal hatunk. Ezt követően a kontrollált-$U_a$ kvantumkapu különboző hatványival hatunk az áramkörre az ábrán látható módon. Végül az úgynevezett kvantum Fourier-transzformáció inverzével hatunk a kontroll qubitekre. A kvantum Fourier-transzformáció részleteibe most nem megyünk bele. <br><br> \n",
    "**2. Állítás:** Ha a keresett $r$ periódus kettőhatvány, akkor az ábrán látható kvantumáramkör futtatása utáni mérés eredménye a $2^k\\frac{s}{r}$ szám, ahol $k$ a kontroll qubitek száma, $r$ a keresett periódus, $s$ egy véletlen szám, ami minden 0 és r-1 közötti szám $\\frac{1}{r}$ valószínűséggel lehet. Ha $s$ és $r$ relatív prímek, akkor a mért tört nevezőjéből ki tudjuk olvani az $r$ periódust.\n",
    "\n",
    "**Megjegyzés**: Ha $r$ nem kettőhatvány, akkor $2^k\\frac{s}{r}$ nem egész szám. Ekkor egy ehhez közel eső egész számot mérünk, amiből meg tudjuk határozni a periódust az úgynevezett lánctört algoritmus segítségével.\n",
    "\n",
    "<img src=\"qpe.png\" width=\"700\">\n",
    "\n",
    "A következőekben azt fogjuk körüljárni egy példa segítségével, hogy miért működik a perióduskereső áramkör."
   ]
  },
  {
   "cell_type": "code",
   "execution_count": 13,
   "metadata": {},
   "outputs": [],
   "source": [
    "def c_amod15(a, power):\n",
    "    \"\"\"Controlled multiplication by a mod 15\"\"\"\n",
    "    if a not in [1,2,4,7,8,11,13,14]:\n",
    "        raise ValueError(\"'a' must be 1,2,4,7,8,11,13 or 14\")\n",
    "    U = QuantumCircuit(4)        \n",
    "    for iteration in range(power):\n",
    "        if a in [7,8]:\n",
    "            U.swap(0,1)\n",
    "            U.swap(1,2)\n",
    "            U.swap(2,3)\n",
    "        if a in [2,13]:\n",
    "            U.swap(2,3)\n",
    "            U.swap(1,2)\n",
    "            U.swap(0,1)\n",
    "        if a in [4, 11]:\n",
    "            U.swap(1,3)\n",
    "            U.swap(0,2)\n",
    "        if a in [7,11,13,14]:\n",
    "            for q in range(4):\n",
    "                U.x(q)\n",
    "    U = U.to_gate()\n",
    "    U.name = \"%i^%i mod 15\" % (a, power)\n",
    "    c_U = U.control()\n",
    "    return c_U\n"
   ]
  },
  {
   "cell_type": "code",
   "execution_count": 14,
   "metadata": {},
   "outputs": [],
   "source": [
    "\"\"\"n-qubit QFTdagger the first n qubits in circ\"\"\"\n",
    "def qft_dagger(n):\n",
    "    qc = QuantumCircuit(n)\n",
    "    # Don't forget the Swaps!\n",
    "    for qubit in range(n//2):\n",
    "        qc.swap(qubit, n-qubit-1)\n",
    "    for j in range(n):\n",
    "        for m in range(j):\n",
    "            qc.cp(-np.pi/float(2**(j-m)), m, j)\n",
    "        qc.h(j)\n",
    "    qc.name = \"QFT†\"\n",
    "    return qc"
   ]
  },
  {
   "cell_type": "code",
   "execution_count": 15,
   "metadata": {},
   "outputs": [],
   "source": [
    "\"\"\"encoding the binary form of an i integer into n quntum bits\"\"\"\n",
    "def encode(i, n):\n",
    "    if 2**n <= i:\n",
    "        raise ValueError(\"'i' is too big to be stored on n qubits\")\n",
    "    bits = np.array(list(format(i, \"b\")), dtype=int)\n",
    "    while len(bits) < n:\n",
    "        bits = np.insert(bits, 0, 0)\n",
    "    qc = QuantumCircuit(n)\n",
    "    for j in range(len(bits)):\n",
    "        if bits[j]  == 1:\n",
    "            qc.x(n-j-1)\n",
    "    qc.name = \"%i\" %i\n",
    "    return qc"
   ]
  },
  {
   "cell_type": "code",
   "execution_count": 16,
   "metadata": {},
   "outputs": [],
   "source": [
    "def run(qc, backend=simulator):\n",
    "    job = execute(qc, backend=backend, shots=1)\n",
    "    counts = job.result().get_counts()\n",
    "    bits = list(list(counts)[0])\n",
    "    result = 0\n",
    "    for j in range(len(bits)):\n",
    "        result += int(bits[j])*2**(len(bits)-1-j)\n",
    "    return result"
   ]
  },
  {
   "cell_type": "markdown",
   "metadata": {},
   "source": [
    "**3. feladat (szorgalmi)**\n",
    "\n",
    "Ellenőrizzük, hogy a **c_7mod15(1)** kvantum kapu tényleg 7-el modulo 15 szorzó kapu kontrollált verziója. "
   ]
  },
  {
   "cell_type": "code",
   "execution_count": 17,
   "metadata": {},
   "outputs": [
    {
     "name": "stdout",
     "output_type": "stream",
     "text": [
      "0 15\n",
      "1 7\n",
      "2 14\n",
      "3 6\n",
      "4 13\n",
      "5 5\n",
      "6 12\n",
      "7 4\n",
      "8 11\n",
      "9 3\n",
      "10 10\n",
      "11 2\n",
      "12 9\n",
      "13 1\n",
      "14 8\n"
     ]
    }
   ],
   "source": [
    "# megoldás helye\n",
    "\n",
    "qc = [QuantumCircuit(5, 4) for i in range(15)]\n",
    "for i in range(15):\n",
    "    qc[i].x(0)\n",
    "    qc[i].append(encode(i, 4), range(1, 5))\n",
    "    qc[i].append(c_amod15(7, 1), range(5))\n",
    "    qc[i].measure(range(1, 5), range(4))\n",
    "    print(i, run(qc[i]))"
   ]
  },
  {
   "cell_type": "code",
   "execution_count": null,
   "metadata": {},
   "outputs": [],
   "source": []
  },
  {
   "cell_type": "markdown",
   "metadata": {},
   "source": [
    "**4. feladat**\n",
    "Rakjuk össze a fenti ábrán látható áramkört az $a=7$, $N=15$ esetre pár változtatással: a $H$ kapuk helyett a kontroll qubitekbe írjunk bele egy $k$ egész számot. (Ehhez használhatjuk az encode($k$) függvényt.) A kvantum Fourier-transzformációt hagyjuk ki és a kontroll qubitek helyett a $b$ szám értékét mérjük meg. Használjunk 3 darab kontroll qubitet.\n",
    "\n",
    "Állítás: Az így kapott áramkör mérésekor $a^k$ $\\text{mod}$ $N$-t, azaz $7^k$ $\\text{mod}$ $15$-öt mérjük. \n",
    "\n",
    "**(a)** Ellenőrizzük ezt az állítást $i$ három különböző értékére. (pl $k = 2, 3, 4$)<br>\n",
    "**(b) (Szorgalmi)** Gondoljuk végig, hogy az állítás minden $a$ és $k$ szám esetén igaz. Segítség: Ehhez lényegében azt kell belátni, hogy $a^{2^0k_0}\\cdot a^{2^1k_1}\\cdot...\\cdot a^{2^{n-2}k_{n-2}}\\cdot a^{2^{n-1}k_{n-1}} = a^k$. Itt $k_j$ a $k$ egész szám kettes számrendszerbeli alakjának a $2^j$ helyi értéken szereplő számjegye. <br><br>\n",
    "**Megjegyzés**: Vegyük észre, hogy ebben a feladatban összerakott kvantumáramkörben csak olyan műveleteket használtunk, melyeket klasszikus számítógépen is el lehet végezni."
   ]
  },
  {
   "cell_type": "code",
   "execution_count": 34,
   "metadata": {},
   "outputs": [
    {
     "name": "stdout",
     "output_type": "stream",
     "text": [
      "4 4\n",
      "13 13\n",
      "1 1\n"
     ]
    },
    {
     "data": {
      "text/html": [
       "<pre style=\"word-wrap: normal;white-space: pre;background: #fff0;line-height: 1.1;font-family: &quot;Courier New&quot;,Courier,monospace\">     ┌────┐                                                         \n",
       "q_0: ┤0   ├───────■─────────────────────────────────────────────────\n",
       "     │    │       │                                                 \n",
       "q_1: ┤1 4 ├───────┼──────────────■──────────────────────────────────\n",
       "     │    │       │              │                                  \n",
       "q_2: ┤2   ├───────┼──────────────┼──────────────■───────────────────\n",
       "     ├───┬┘┌──────┴──────┐┌──────┴──────┐┌──────┴──────┐┌─┐         \n",
       "q_3: ┤ X ├─┤0            ├┤0            ├┤0            ├┤M├─────────\n",
       "     └───┘ │             ││             ││             │└╥┘┌─┐      \n",
       "q_4: ──────┤1            ├┤1            ├┤1            ├─╫─┤M├──────\n",
       "           │  7^1 mod 15 ││  4^1 mod 15 ││  1^1 mod 15 │ ║ └╥┘┌─┐   \n",
       "q_5: ──────┤2            ├┤2            ├┤2            ├─╫──╫─┤M├───\n",
       "           │             ││             ││             │ ║  ║ └╥┘┌─┐\n",
       "q_6: ──────┤3            ├┤3            ├┤3            ├─╫──╫──╫─┤M├\n",
       "           └─────────────┘└─────────────┘└─────────────┘ ║  ║  ║ └╥┘\n",
       "c: 4/════════════════════════════════════════════════════╩══╩══╩══╩═\n",
       "                                                         0  1  2  3 </pre>"
      ],
      "text/plain": [
       "     ┌────┐                                                         \n",
       "q_0: ┤0   ├───────■─────────────────────────────────────────────────\n",
       "     │    │       │                                                 \n",
       "q_1: ┤1 4 ├───────┼──────────────■──────────────────────────────────\n",
       "     │    │       │              │                                  \n",
       "q_2: ┤2   ├───────┼──────────────┼──────────────■───────────────────\n",
       "     ├───┬┘┌──────┴──────┐┌──────┴──────┐┌──────┴──────┐┌─┐         \n",
       "q_3: ┤ X ├─┤0            ├┤0            ├┤0            ├┤M├─────────\n",
       "     └───┘ │             ││             ││             │└╥┘┌─┐      \n",
       "q_4: ──────┤1            ├┤1            ├┤1            ├─╫─┤M├──────\n",
       "           │  7^1 mod 15 ││  4^1 mod 15 ││  1^1 mod 15 │ ║ └╥┘┌─┐   \n",
       "q_5: ──────┤2            ├┤2            ├┤2            ├─╫──╫─┤M├───\n",
       "           │             ││             ││             │ ║  ║ └╥┘┌─┐\n",
       "q_6: ──────┤3            ├┤3            ├┤3            ├─╫──╫──╫─┤M├\n",
       "           └─────────────┘└─────────────┘└─────────────┘ ║  ║  ║ └╥┘\n",
       "c: 4/════════════════════════════════════════════════════╩══╩══╩══╩═\n",
       "                                                         0  1  2  3 "
      ]
     },
     "execution_count": 34,
     "metadata": {},
     "output_type": "execute_result"
    }
   ],
   "source": [
    "# megoldás helye\n",
    "\n",
    "for i in range(3):\n",
    "    qc = QuantumCircuit(7, 4) \n",
    "    qc.append(encode(i+2, 3), range(3))\n",
    "    qc.x(3)\n",
    "    for j in range(3):\n",
    "        k = 7**(2**j)%15\n",
    "        qc.append(c_amod15(k, 1), [j]+list(range(3, 7)))\n",
    "    qc.measure(range(3, 7), range(4))\n",
    "    print(7**(i+2)%15, run(qc, simulator))\n",
    "    \n",
    "qc.draw()"
   ]
  },
  {
   "cell_type": "markdown",
   "metadata": {},
   "source": [
    "**5. feladat** \n",
    "\n",
    "A fenti ábra alapján rakjuk össze azt a kvantumáramkört, ami megkeresi az $a= 7$ szám $N=15$ szerinti periódusát. Ehhez használjunk 3 darab kontroll qubitet. Rajzoltassuk ki a kapott kvantumáramkört. (Ehhez használjuk a qc.draw() parancsot.)<br><br>\n",
    "\n",
    "\n",
    "**Megjegyzés**: A Hadamard kapukkal azt érjük el, hogy kontroll qubiteken a $0$, $1$, ..., $2^k-1$ számok egyenlő szuperpozíciója jelenik meg. Tehát úgy gondolhatunk az áramkörre, hogy párhuzamosan számoljuk ki $a^{0}$, $a^{1}$, ..., $a^{2^k-1}$ számokat. Ezen ismeretében a periódust meg tudnánk határozni. Tudjuk azonban, hogy hiába tartalmazza a kvantumáramkör a szükséges információt, ehhez nem tudunk hozzáférni. Az áramkör mérésekor ugyanis csak egy számot kapunk. Ezért van szükség a kvantum Fourier-transzformáció inverzére, hogy kinyerjük a számunkra fontos adatot a kvantumáramkörből, ami az $r$ periódus. Ehhez nem az ábrán lent látható $n$ darab qubitet kell mérni (ahogy a 4. feladatban), hanem a kontroll qubiteket."
   ]
  },
  {
   "cell_type": "code",
   "execution_count": 35,
   "metadata": {},
   "outputs": [
    {
     "data": {
      "text/html": [
       "<pre style=\"word-wrap: normal;white-space: pre;background: #fff0;line-height: 1.1;font-family: &quot;Courier New&quot;,Courier,monospace\">     ┌───┐                                             ┌───────┐┌─┐      \n",
       "q_0: ┤ H ├───────■─────────────────────────────────────┤0      ├┤M├──────\n",
       "     ├───┤       │                                     │       │└╥┘┌─┐   \n",
       "q_1: ┤ H ├───────┼──────────────■──────────────────────┤1 QFT† ├─╫─┤M├───\n",
       "     ├───┤       │              │                      │       │ ║ └╥┘┌─┐\n",
       "q_2: ┤ H ├───────┼──────────────┼──────────────■───────┤2      ├─╫──╫─┤M├\n",
       "     ├───┤┌──────┴──────┐┌──────┴──────┐┌──────┴──────┐└───────┘ ║  ║ └╥┘\n",
       "q_3: ┤ X ├┤0            ├┤0            ├┤0            ├──────────╫──╫──╫─\n",
       "     └───┘│             ││             ││             │          ║  ║  ║ \n",
       "q_4: ─────┤1            ├┤1            ├┤1            ├──────────╫──╫──╫─\n",
       "          │  7^1 mod 15 ││  4^1 mod 15 ││  1^1 mod 15 │          ║  ║  ║ \n",
       "q_5: ─────┤2            ├┤2            ├┤2            ├──────────╫──╫──╫─\n",
       "          │             ││             ││             │          ║  ║  ║ \n",
       "q_6: ─────┤3            ├┤3            ├┤3            ├──────────╫──╫──╫─\n",
       "          └─────────────┘└─────────────┘└─────────────┘          ║  ║  ║ \n",
       "c: 4/════════════════════════════════════════════════════════════╩══╩══╩═\n",
       "                                                                 0  1  2 </pre>"
      ],
      "text/plain": [
       "     ┌───┐                                             ┌───────┐┌─┐      \n",
       "q_0: ┤ H ├───────■─────────────────────────────────────┤0      ├┤M├──────\n",
       "     ├───┤       │                                     │       │└╥┘┌─┐   \n",
       "q_1: ┤ H ├───────┼──────────────■──────────────────────┤1 QFT† ├─╫─┤M├───\n",
       "     ├───┤       │              │                      │       │ ║ └╥┘┌─┐\n",
       "q_2: ┤ H ├───────┼──────────────┼──────────────■───────┤2      ├─╫──╫─┤M├\n",
       "     ├───┤┌──────┴──────┐┌──────┴──────┐┌──────┴──────┐└───────┘ ║  ║ └╥┘\n",
       "q_3: ┤ X ├┤0            ├┤0            ├┤0            ├──────────╫──╫──╫─\n",
       "     └───┘│             ││             ││             │          ║  ║  ║ \n",
       "q_4: ─────┤1            ├┤1            ├┤1            ├──────────╫──╫──╫─\n",
       "          │  7^1 mod 15 ││  4^1 mod 15 ││  1^1 mod 15 │          ║  ║  ║ \n",
       "q_5: ─────┤2            ├┤2            ├┤2            ├──────────╫──╫──╫─\n",
       "          │             ││             ││             │          ║  ║  ║ \n",
       "q_6: ─────┤3            ├┤3            ├┤3            ├──────────╫──╫──╫─\n",
       "          └─────────────┘└─────────────┘└─────────────┘          ║  ║  ║ \n",
       "c: 4/════════════════════════════════════════════════════════════╩══╩══╩═\n",
       "                                                                 0  1  2 "
      ]
     },
     "execution_count": 35,
     "metadata": {},
     "output_type": "execute_result"
    }
   ],
   "source": [
    "# megoldás helye\n",
    "\n",
    "a = 7\n",
    "N = 15\n",
    "\n",
    "qc = QuantumCircuit(7, 4) \n",
    "for i in range(3):\n",
    "    qc.h(i)\n",
    "qc.x(3)\n",
    "for j in range(3):\n",
    "        k = a**(2**j)%N\n",
    "        qc.append(c_amod15(k, 1), [j]+list(range(3, 7)))\n",
    "qc.append(qft_dagger(3), range(3))\n",
    "qc.measure(range(3), range(3))\n",
    "\n",
    "qc.draw()\n"
   ]
  },
  {
   "cell_type": "markdown",
   "metadata": {},
   "source": [
    "**6. feladat**\n",
    "\n",
    "A kvantumáramkör futtatásának eredménye egy bitsztring. A korábbiak ismeretében gondoljuk végig, hogy hogyan tudjuk ebből kiolvasni az $r$ periódust. <br><br>\n",
    "\n",
    "**7. feladat**\n",
    "\n",
    "Futtassuk le a kvantumáramkört és a kapott eredmény alapján határozzuk meg az $a=7$ szám $N=15$ szerinti periódusát. A perióduskereső eljárás nem mindig az $r$ periódust adja vissza. Van, hogy $r$ egy osztóját kapjuk. Ezért ellenőrizni kell, hogy az $r$ periódust kaptuk-e. Ha nem, akkor újra kell futtatni a kvantumáramkört, addig amíg meg nem kapjuk a periódust."
   ]
  },
  {
   "cell_type": "code",
   "execution_count": 36,
   "metadata": {},
   "outputs": [
    {
     "name": "stdout",
     "output_type": "stream",
     "text": [
      "4\n"
     ]
    }
   ],
   "source": [
    "# megoldás helye\n",
    "\n",
    "m = run(qc, simulator)\n",
    "r = Fraction(m/2**3).limit_denominator(15).denominator\n",
    "\n",
    "while a**r%15 != 1:\n",
    "    m = run(qc, simulator)\n",
    "    r = Fraction(m/2**3).limit_denominator(15).denominator\n",
    "    \n",
    "print(r)"
   ]
  },
  {
   "cell_type": "markdown",
   "metadata": {},
   "source": [
    "**8. feladat**\n",
    "\n",
    "A periódus alapján határozzuk meg a 15 szám egy osztóját."
   ]
  },
  {
   "cell_type": "code",
   "execution_count": 37,
   "metadata": {},
   "outputs": [
    {
     "name": "stdout",
     "output_type": "stream",
     "text": [
      "3 5\n"
     ]
    }
   ],
   "source": [
    "# megoldás helye\n",
    "\n",
    "d1 = np.gcd(2**(r//2)-1, 15)\n",
    "d2 = np.gcd(2**(r//2)+1, 15)\n",
    "print(d1, d2)"
   ]
  },
  {
   "cell_type": "code",
   "execution_count": null,
   "metadata": {},
   "outputs": [],
   "source": []
  }
 ],
 "metadata": {
  "kernelspec": {
   "display_name": "Python 3",
   "language": "python",
   "name": "python3"
  },
  "language_info": {
   "codemirror_mode": {
    "name": "ipython",
    "version": 3
   },
   "file_extension": ".py",
   "mimetype": "text/x-python",
   "name": "python",
   "nbconvert_exporter": "python",
   "pygments_lexer": "ipython3",
   "version": "3.8.5"
  }
 },
 "nbformat": 4,
 "nbformat_minor": 4
}
