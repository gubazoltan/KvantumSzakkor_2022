{
 "cells": [
  {
   "cell_type": "markdown",
   "metadata": {},
   "source": [
    "<font style=\"font-size:28px;\" align=\"left\"><b> Fázis visszahatás </b></font>\n",
    "\n",
    "A fázis visszahatás effektusa arra az érdekes jelensége mutat rá, hogy CNOT kapu a kontroll qubit állapotát is meg tudja változtatni, nem csak a target qubitét. Ez azért meglepő, mivel a klasszikusan a CNOT kapu csak a target qubit állapotát változtatja meg. ($\\ket{0}\\rightarrow \\ket{1}$ és $\\ket{1}\\rightarrow \\ket{0}$ ha a kontroll qubit állapota $\\ket{1}$.)"
   ]
  },
  {
   "cell_type": "markdown",
   "metadata": {},
   "source": [
    "1. Feladat:\n",
    "\n",
    "    Hozzatok létre egy kvantumáramkört 2 kvantumbittel, legyenek ezek q[1] és q[0]!\n",
    "    \n",
    "    Kezdetben a kvantumbitek legyenek a $\\ket{01}$ állapotban, azaz inicializáljátok a\n",
    "    - q[1] kvantumbitet a $\\ket{0}$ állapotba\n",
    "    - q[0] kvantumbitet pedig a $\\ket{1}$ állapotba.\n",
    "\n",
    "    Alkalmazzatok egy-egy Hadamard kaput mindkét kvantumbiten!\n",
    "\n",
    "    Alkalmazzatok egy CNOT kaput úgy, hogy a q[1] a kontroll qubit és q[0] a target qubit!\n",
    "\n",
    "    Ismét alkalmazzatok egy-egy Hadamard kaput mindkét kvantumbiten!\n",
    "\n",
    "    Mérjétek meg a kvantumbiteket és értelmezzétek az eredményt!\n",
    "\n",
    "    Számolással igazoljátok a kapott eredményt!\n"
   ]
  },
  {
   "cell_type": "code",
   "execution_count": 1,
   "metadata": {},
   "outputs": [],
   "source": [
    "#1. feladat megoldása:"
   ]
  },
  {
   "cell_type": "markdown",
   "metadata": {},
   "source": [
    "2. Feladat\n",
    "\n",
    "    Hozzatok létre egy kvantumáramkört 7 kvantumbittel, ezek legyenek rendre q[6],q[5],q[4],q[3],q[2],q[1],q[0]!\n",
    "\n",
    "    Kezdetben a kvantumbitek legyenek a $\\ket{0000001}$ állapotban.\n",
    "\n",
    "    Alkalmazzatok Hadamard kaput az összes kvantumbiten!\n",
    "\n",
    "    Alkalmazzatok 6 db CNOT kaput úgy, hogy a kontroll qubitek minden CNOT kapu esetén rendre a q[1],q[2],q[3],q[4],q[5],q[6] qubitek legyenek, a target qubit pedig mindig a q[0] qubit legyen!\n",
    "\n",
    "    Ismét alkalmazzatok Hadamard kapukat az összes kvantumbiten!\n",
    "\n",
    "    Mérjétek meg a kvantumbiteket és értelmezzétek az eredményt! "
   ]
  },
  {
   "cell_type": "code",
   "execution_count": 2,
   "metadata": {},
   "outputs": [],
   "source": [
    "#2. Feladat megoldása:"
   ]
  },
  {
   "cell_type": "markdown",
   "metadata": {},
   "source": [
    "3. Feladat\n",
    "\n",
    "    Nézzétek meg mi történik, ha bizonyos CNOT kapukat kihagytok az áramkörből!"
   ]
  },
  {
   "cell_type": "code",
   "execution_count": 3,
   "metadata": {},
   "outputs": [],
   "source": [
    "#3. Feladat megoldása:"
   ]
  },
  {
   "cell_type": "markdown",
   "metadata": {},
   "source": [
    "4. Feladat\n",
    "\n",
    "    Igazoljátok, hogy az alábbi két áramkör ekvivalens!\n",
    "    (Mutássotok meg, hogy minden bázisállapoton ugyanúgy hatnak.)\n",
    "    "
   ]
  },
  {
   "cell_type": "code",
   "execution_count": 5,
   "metadata": {},
   "outputs": [
    {
     "data": {
      "image/png": "[encoded data removed]",
      "text/plain": [
       "<Figure size 267.052x144.48 with 1 Axes>"
      ]
     },
     "metadata": {},
     "output_type": "display_data"
    },
    {
     "data": {
      "image/png": "[encoded data removed]",
      "text/plain": [
       "<Figure size 146.652x144.48 with 1 Axes>"
      ]
     },
     "metadata": {},
     "output_type": "display_data"
    }
   ],
   "source": [
    "import qiskit as qt\n",
    "\n",
    "q = qt.QuantumRegister(2,'q')\n",
    "qc = qt.QuantumCircuit(q)\n",
    "\n",
    "qc.h(q)\n",
    "qc.cx(1,0)\n",
    "qc.h(q)\n",
    "\n",
    "display(qc.draw(output='mpl',reverse_bits=True))\n",
    "\n",
    "q2 = qt.QuantumRegister(2,'q')\n",
    "qc2 = qt.QuantumCircuit(q2)\n",
    "\n",
    "qc2.cx(0,1)\n",
    "\n",
    "display(qc2.draw(output='mpl',reverse_bits=True))"
   ]
  },
  {
   "cell_type": "code",
   "execution_count": 4,
   "metadata": {},
   "outputs": [],
   "source": [
    "#4. Feladat megoldása:"
   ]
  }
 ],
 "metadata": {
  "interpreter": {
   "hash": "2353d288b475d2cc636ad48126075a57059af323d6ffd0a5e5428d78a33005ad"
  },
  "kernelspec": {
   "display_name": "Python 3.9.6 64-bit",
   "language": "python",
   "name": "python3"
  },
  "language_info": {
   "codemirror_mode": {
    "name": "ipython",
    "version": 3
   },
   "file_extension": ".py",
   "mimetype": "text/x-python",
   "name": "python",
   "nbconvert_exporter": "python",
   "pygments_lexer": "ipython3",
   "version": "3.9.6"
  },
  "orig_nbformat": 4
 },
 "nbformat": 4,
 "nbformat_minor": 2
}
