{
 "cells": [
  {
   "cell_type": "code",
   "execution_count": 3,
   "id": "8c7325d5-9ef5-47d2-a531-64177354b2ee",
   "metadata": {},
   "outputs": [
    {
     "name": "stderr",
     "output_type": "stream",
     "text": [
      "ibmqfactory.load_account:WARNING:2022-04-01 15:02:17,672: Credentials are already in use. The existing account in the session will be replaced.\n"
     ]
    }
   ],
   "source": [
    "from qiskit import QuantumCircuit, IBMQ\n",
    "provider = IBMQ.load_account()"
   ]
  },
  {
   "cell_type": "markdown",
   "id": "39cac43b-a6f0-45ce-908d-4331b5e7f458",
   "metadata": {},
   "source": [
    "Van egy $N$ qubites áramkörünk. Feladat: írjunk egy függvényt, ami felcseréli két qubit állapotát úgy, hogy közben csak szomszédos qubitek közti CNOT-okat használhatunk."
   ]
  },
  {
   "cell_type": "markdown",
   "id": "d05f75ab-ee7e-435b-829d-ed17f2b007f3",
   "metadata": {},
   "source": [
    "Első lépésként írjunk egy függvényt, ami felcseréli két szomszédos qubit állapotát! Lássuk be, hogy a két szomszédos qubit állapotát az alábbi operátorok egymás utáni hatásával tudjuk felcserélni:\n",
    "$CNOT(i, j) CNOT(j, i) CNOT(i, j)$, ahol $i$ és $j$ két szomszédos qubit indexe."
   ]
  },
  {
   "cell_type": "code",
   "execution_count": null,
   "id": "77bb4c94-6147-4519-a794-2c7a56dd87b0",
   "metadata": {},
   "outputs": [],
   "source": [
    "def swap_neighbors(circ, i, j):\n",
    "    # először ellenőrizzük le, hogy szomszédosak a qubitek\n",
    "    circ.cx(i, j)\n",
    "    # stb."
   ]
  },
  {
   "cell_type": "markdown",
   "id": "835bba3a-8b90-4897-a646-ff6bcaa30e86",
   "metadata": {},
   "source": [
    "A swap_neighbors függvényből kiindulva írjuk meg a swap függvényt, ami tetszőleges két qubit állapotát felcseréli!"
   ]
  },
  {
   "cell_type": "code",
   "execution_count": null,
   "id": "c79b576f-d2cc-44fd-9454-fbad8f4bac17",
   "metadata": {},
   "outputs": [],
   "source": [
    "def swap(circ, i, j):\n",
    "    # a megoldás helye"
   ]
  },
  {
   "cell_type": "markdown",
   "id": "f4fba311-9c0c-4133-a9ee-a6040d35e3a0",
   "metadata": {},
   "source": [
    "Ellenőrzés: inicializáljunk egy 7 qubites áramkört az |1000000> állapotba, majd cseréljük fel az első qubitet az utolsóval. Szimulációs méréssel ellenőrizzük, hogy a felcserélés utáni állapot a |0000001>."
   ]
  },
  {
   "cell_type": "code",
   "execution_count": null,
   "id": "eefdbab3-3cef-450f-9d79-f57e84589ee7",
   "metadata": {},
   "outputs": [],
   "source": [
    "from qiskit.providers.aer import QasmSimulator\n",
    "\n",
    "backend = QasmSimulator()"
   ]
  },
  {
   "cell_type": "code",
   "execution_count": null,
   "id": "d4b6108e-c605-4b56-b602-ba23814104e9",
   "metadata": {},
   "outputs": [],
   "source": [
    "circ = QuantumCircuit(7, 7)\n",
    "# a megoldás helye"
   ]
  }
 ],
 "metadata": {
  "kernelspec": {
   "display_name": "Qiskit v0.34.2 (ipykernel)",
   "language": "python",
   "name": "python3"
  },
  "language_info": {
   "codemirror_mode": {
    "name": "ipython",
    "version": 3
   },
   "file_extension": ".py",
   "mimetype": "text/x-python",
   "name": "python",
   "nbconvert_exporter": "python",
   "pygments_lexer": "ipython3",
   "version": "3.8.13"
  },
  "widgets": {
   "application/vnd.jupyter.widget-state+json": {
    "state": {
     "0243b43ba56548188842c6378d36f0ee": {
      "model_module": "@jupyter-widgets/controls",
      "model_module_version": "1.5.0",
      "model_name": "ButtonModel",
      "state": {
       "button_style": "primary",
       "description": "Clear",
       "layout": "IPY_MODEL_c3e5fc51228f4aceb26820d85b91d00e",
       "style": "IPY_MODEL_44eed71e6dad492ab1729034435aeb30"
      }
     },
     "0ee703c3a8b44e3b8f8dc46568cf8fa9": {
      "model_module": "@jupyter-widgets/base",
      "model_module_version": "1.2.0",
      "model_name": "LayoutModel",
      "state": {
       "width": "190px"
      }
     },
     "124cda195e7a4c158c680d0bd00a13a5": {
      "model_module": "@jupyter-widgets/base",
      "model_module_version": "1.2.0",
      "model_name": "LayoutModel",
      "state": {
       "width": "145px"
      }
     },
     "1582f8fb5256420b892ff0db1e8d4709": {
      "model_module": "@jupyter-widgets/controls",
      "model_module_version": "1.5.0",
      "model_name": "DescriptionStyleModel",
      "state": {
       "description_width": ""
      }
     },
     "18da52cba8d844b99e0cbcc0086bac66": {
      "model_module": "@jupyter-widgets/controls",
      "model_module_version": "1.5.0",
      "model_name": "HTMLModel",
      "state": {
       "layout": "IPY_MODEL_49dd636799924be8867791ee683e2b85",
       "style": "IPY_MODEL_32da92d13c1a4689a75108cf1b0b8c8a",
       "value": "<h5>Message</h5>"
      }
     },
     "19d4da18367c461d8b4059e7acb0588c": {
      "model_module": "@jupyter-widgets/base",
      "model_module_version": "1.2.0",
      "model_name": "LayoutModel",
      "state": {
       "margin": "0px 0px 10px 0px"
      }
     },
     "1a7dcbf6249342509df745dcd5d6d1eb": {
      "model_module": "@jupyter-widgets/controls",
      "model_module_version": "1.5.0",
      "model_name": "DescriptionStyleModel",
      "state": {
       "description_width": ""
      }
     },
     "1dd63eed8a2c4e54b3839da850e2207b": {
      "model_module": "@jupyter-widgets/controls",
      "model_module_version": "1.5.0",
      "model_name": "HTMLModel",
      "state": {
       "layout": "IPY_MODEL_0ee703c3a8b44e3b8f8dc46568cf8fa9",
       "style": "IPY_MODEL_1582f8fb5256420b892ff0db1e8d4709",
       "value": "<h5>Job ID</h5>"
      }
     },
     "22f2b4092bf24e4abfc64b6bef66783c": {
      "model_module": "@jupyter-widgets/base",
      "model_module_version": "1.2.0",
      "model_name": "LayoutModel",
      "state": {
       "margin": "0px 0px 0px 37px",
       "width": "600px"
      }
     },
     "308511ef129e43e29093e2363ab92742": {
      "model_module": "@jupyter-widgets/controls",
      "model_module_version": "1.5.0",
      "model_name": "DescriptionStyleModel",
      "state": {
       "description_width": ""
      }
     },
     "32da92d13c1a4689a75108cf1b0b8c8a": {
      "model_module": "@jupyter-widgets/controls",
      "model_module_version": "1.5.0",
      "model_name": "DescriptionStyleModel",
      "state": {
       "description_width": ""
      }
     },
     "3343733c792d46b29f1397d69ed3e102": {
      "model_module": "@jupyter-widgets/controls",
      "model_module_version": "1.5.0",
      "model_name": "HTMLModel",
      "state": {
       "layout": "IPY_MODEL_55ba54803a364de5b3adc95918d2576a",
       "style": "IPY_MODEL_e0456485fbaa400081a4725d26d8f255",
       "value": "<h5>Queue</h5>"
      }
     },
     "3a37c41ad33e47ed87469499f8bf125e": {
      "model_module": "@jupyter-widgets/controls",
      "model_module_version": "1.5.0",
      "model_name": "HTMLModel",
      "state": {
       "layout": "IPY_MODEL_124cda195e7a4c158c680d0bd00a13a5",
       "style": "IPY_MODEL_7e485b6c659a41e18322e812da363322",
       "value": "<h5>Backend</h5>"
      }
     },
     "44eed71e6dad492ab1729034435aeb30": {
      "model_module": "@jupyter-widgets/controls",
      "model_module_version": "1.5.0",
      "model_name": "ButtonStyleModel",
      "state": {}
     },
     "49dd636799924be8867791ee683e2b85": {
      "model_module": "@jupyter-widgets/base",
      "model_module_version": "1.2.0",
      "model_name": "LayoutModel",
      "state": {}
     },
     "55ba54803a364de5b3adc95918d2576a": {
      "model_module": "@jupyter-widgets/base",
      "model_module_version": "1.2.0",
      "model_name": "LayoutModel",
      "state": {
       "width": "70px"
      }
     },
     "69fe072c8d474c7fa77049f81443cc27": {
      "model_module": "@jupyter-widgets/base",
      "model_module_version": "1.2.0",
      "model_name": "LayoutModel",
      "state": {
       "width": "95px"
      }
     },
     "7e485b6c659a41e18322e812da363322": {
      "model_module": "@jupyter-widgets/controls",
      "model_module_version": "1.5.0",
      "model_name": "DescriptionStyleModel",
      "state": {
       "description_width": ""
      }
     },
     "c3e5fc51228f4aceb26820d85b91d00e": {
      "model_module": "@jupyter-widgets/base",
      "model_module_version": "1.2.0",
      "model_name": "LayoutModel",
      "state": {
       "grid_area": "right",
       "padding": "0px 0px 0px 0px",
       "width": "70px"
      }
     },
     "c981c36e3da74b52ab8afc3e441fadc1": {
      "model_module": "@jupyter-widgets/controls",
      "model_module_version": "1.5.0",
      "model_name": "GridBoxModel",
      "state": {
       "children": [
        "IPY_MODEL_0243b43ba56548188842c6378d36f0ee"
       ],
       "layout": "IPY_MODEL_f21a06c83abc4a35a9b57fd62f0c819d"
      }
     },
     "d21287d1398240a08bd10bf109dc8adc": {
      "model_module": "@jupyter-widgets/controls",
      "model_module_version": "1.5.0",
      "model_name": "HTMLModel",
      "state": {
       "layout": "IPY_MODEL_19d4da18367c461d8b4059e7acb0588c",
       "style": "IPY_MODEL_1a7dcbf6249342509df745dcd5d6d1eb",
       "value": "<p style='font-family: IBM Plex Sans, Arial, Helvetica, sans-serif; font-size: 20px; font-weight: medium;'>Circuit Properties</p>"
      }
     },
     "d2648447987c41ec8d4644969efe2f98": {
      "model_module": "@jupyter-widgets/controls",
      "model_module_version": "1.5.0",
      "model_name": "HTMLModel",
      "state": {
       "layout": "IPY_MODEL_69fe072c8d474c7fa77049f81443cc27",
       "style": "IPY_MODEL_308511ef129e43e29093e2363ab92742",
       "value": "<h5>Status</h5>"
      }
     },
     "e0456485fbaa400081a4725d26d8f255": {
      "model_module": "@jupyter-widgets/controls",
      "model_module_version": "1.5.0",
      "model_name": "DescriptionStyleModel",
      "state": {
       "description_width": ""
      }
     },
     "f21a06c83abc4a35a9b57fd62f0c819d": {
      "model_module": "@jupyter-widgets/base",
      "model_module_version": "1.2.0",
      "model_name": "LayoutModel",
      "state": {
       "grid_template_areas": "\n                                       \". . . . right \"\n                                        ",
       "grid_template_columns": "20% 20% 20% 20% 20%",
       "width": "100%"
      }
     },
     "f4dfcd34bdee4c1a901f391a71590504": {
      "model_module": "@jupyter-widgets/controls",
      "model_module_version": "1.5.0",
      "model_name": "HBoxModel",
      "state": {
       "children": [
        "IPY_MODEL_1dd63eed8a2c4e54b3839da850e2207b",
        "IPY_MODEL_3a37c41ad33e47ed87469499f8bf125e",
        "IPY_MODEL_d2648447987c41ec8d4644969efe2f98",
        "IPY_MODEL_3343733c792d46b29f1397d69ed3e102",
        "IPY_MODEL_18da52cba8d844b99e0cbcc0086bac66"
       ],
       "layout": "IPY_MODEL_22f2b4092bf24e4abfc64b6bef66783c"
      }
     }
    },
    "version_major": 2,
    "version_minor": 0
   }
  }
 },
 "nbformat": 4,
 "nbformat_minor": 5
}
