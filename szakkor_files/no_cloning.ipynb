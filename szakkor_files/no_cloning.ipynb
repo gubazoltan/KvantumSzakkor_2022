{
 "cells": [
  {
   "cell_type": "code",
   "execution_count": 8,
   "id": "d3902924-ca56-4a92-9b37-9951fb55acaf",
   "metadata": {},
   "outputs": [
    {
     "name": "stderr",
     "output_type": "stream",
     "text": [
      "ibmqfactory.load_account:WARNING:2022-04-01 13:29:11,937: Credentials are already in use. The existing account in the session will be replaced.\n"
     ]
    }
   ],
   "source": [
    "# Importing standard Qiskit libraries\n",
    "from qiskit import QuantumCircuit, IBMQ\n",
    "# Loading your IBM Quantum account(s)\n",
    "provider = IBMQ.load_account()"
   ]
  },
  {
   "cell_type": "markdown",
   "id": "b238946b-8a99-408c-b9c8-9396b2e93fdc",
   "metadata": {},
   "source": [
    "# Szuperpozíció\n",
    "\n",
    "Klasszikusan a bit értéke vagy 0, vagy 1\n",
    "\n",
    "Kvantumosan szuperpozíció is lehet\n",
    "\n",
    "|$\\psi$> = $\\alpha$|0> + $\\beta$|1> : az egyik ágban 0, a másikban 1 a bit értéke\n",
    "\n",
    "mérési valószínűségek: $\\alpha^2$ és $\\beta^2$"
   ]
  },
  {
   "cell_type": "markdown",
   "id": "5fddb884-2917-436b-8d70-06cf151cd43f",
   "metadata": {},
   "source": [
    "# Klónozás\n",
    "\n",
    "Veszünk két qubitet, az egyik kvantumállapota |$\\psi$>, a másiké pedig $|0>$\n",
    "\n",
    "Klónozás alatt azt értjük, hogy a másik qubitet megváltoztatjuk úgy, hogy az ő állapota is |$\\psi$> legyen\n",
    "\n",
    "Klasszikusan lehet klónozni, szuperponált kvantumállapotot viszont NEM!"
   ]
  },
  {
   "cell_type": "markdown",
   "id": "25174e18-5519-4416-8729-c41e567c2320",
   "metadata": {
    "tags": []
   },
   "source": [
    "# Példa: két azonos állapotú qubit vs CNOT\n",
    "\n",
    "A példában az alábbi kapukat fogjuk felhasználni:\n",
    "* Hadamard (H) - egyqubites kapu: a 0 és az 1 egyenlő arányú szuperpozícióját hozza létre\n",
    "\n",
    "$H|0> = \\frac{1}{\\sqrt{2}}$|0> + \\frac{1}{\\sqrt{2}}$|1>\n",
    "\n",
    "$H|1> = \\frac{1}{\\sqrt{2}}$|0> - \\frac{1}{\\sqrt{2}}$|1>\n",
    "\n",
    "* CNOT - kétqubites kapu: Ha a kontroll (első) qubit értéke 1, NOT kapuként hat a target (második) qubitre\n",
    "\n",
    "CNOT|00> = |00>\n",
    "\n",
    "CNOT|01> = |01>\n",
    "\n",
    "CNOT|10> = |11>\n",
    "\n",
    "CNOT|11> = |10>"
   ]
  },
  {
   "cell_type": "code",
   "execution_count": 3,
   "id": "a03c32ad-c373-4098-b9f2-6740e527dfc8",
   "metadata": {},
   "outputs": [
    {
     "data": {
      "image/png": "[encoded data removed]",
      "text/plain": [
       "<Figure size 267.052x204.68 with 1 Axes>"
      ]
     },
     "execution_count": 3,
     "metadata": {},
     "output_type": "execute_result"
    }
   ],
   "source": [
    "circ_clones = QuantumCircuit(2, 2)\n",
    "circ_clones.h(0)\n",
    "circ_clones.h(1)\n",
    "circ_clones.measure([0, 1], [0, 1])\n",
    "circ_clones.draw()\n",
    "# ez a két qubit egymás klónja"
   ]
  },
  {
   "cell_type": "code",
   "execution_count": 4,
   "id": "1a315d46-05a1-4783-804e-be2357ff2dd7",
   "metadata": {},
   "outputs": [],
   "source": [
    "from qiskit.providers.aer import QasmSimulator\n",
    "\n",
    "backend = QasmSimulator()"
   ]
  },
  {
   "cell_type": "code",
   "execution_count": 5,
   "id": "755b3da2-dc96-42b4-91cc-9cff4e2e3a42",
   "metadata": {},
   "outputs": [
    {
     "data": {
      "text/plain": [
       "{'01': 232, '00': 263, '10': 268, '11': 261}"
      ]
     },
     "execution_count": 5,
     "metadata": {},
     "output_type": "execute_result"
    }
   ],
   "source": [
    "job = backend.run(circ_clones, shots=1024)\n",
    "job.result().get_counts()"
   ]
  },
  {
   "cell_type": "code",
   "execution_count": 9,
   "id": "75feedab-0663-4534-9e7f-b910e590f10e",
   "metadata": {},
   "outputs": [
    {
     "data": {
      "image/png": "[encoded data removed]",
      "text/plain": [
       "<Figure size 327.252x204.68 with 1 Axes>"
      ]
     },
     "execution_count": 9,
     "metadata": {},
     "output_type": "execute_result"
    }
   ],
   "source": [
    "circ_cnot = QuantumCircuit(2, 2)\n",
    "circ_cnot.h(0)\n",
    "circ_cnot.cx(0, 1)\n",
    "circ_cnot.measure([0, 1], [0, 1])\n",
    "circ_cnot.draw()"
   ]
  },
  {
   "cell_type": "markdown",
   "id": "ab96334c-98ae-4ca4-a324-ac17fa890219",
   "metadata": {},
   "source": [
    "Nem klónok, mert csak 00 és 11 lehet az eredmény!"
   ]
  },
  {
   "cell_type": "code",
   "execution_count": 10,
   "id": "9effada0-6f0d-4499-8af8-8843e165ea70",
   "metadata": {},
   "outputs": [
    {
     "data": {
      "text/plain": [
       "{'00': 537, '11': 487}"
      ]
     },
     "execution_count": 10,
     "metadata": {},
     "output_type": "execute_result"
    }
   ],
   "source": [
    "job = backend.run(circ_cnot, shots=1024)\n",
    "job.result().get_counts()"
   ]
  },
  {
   "cell_type": "code",
   "execution_count": null,
   "id": "480a3541-680b-4faa-bf52-51698a251c02",
   "metadata": {},
   "outputs": [],
   "source": []
  },
  {
   "cell_type": "code",
   "execution_count": null,
   "id": "1d68e539-e7c8-4165-a454-ea6378ce1d61",
   "metadata": {},
   "outputs": [],
   "source": []
  }
 ],
 "metadata": {
  "kernelspec": {
   "display_name": "Qiskit v0.34.2 (ipykernel)",
   "language": "python",
   "name": "python3"
  },
  "language_info": {
   "codemirror_mode": {
    "name": "ipython",
    "version": 3
   },
   "file_extension": ".py",
   "mimetype": "text/x-python",
   "name": "python",
   "nbconvert_exporter": "python",
   "pygments_lexer": "ipython3",
   "version": "3.8.13"
  },
  "widgets": {
   "application/vnd.jupyter.widget-state+json": {
    "state": {},
    "version_major": 2,
    "version_minor": 0
   }
  }
 },
 "nbformat": 4,
 "nbformat_minor": 5
}
