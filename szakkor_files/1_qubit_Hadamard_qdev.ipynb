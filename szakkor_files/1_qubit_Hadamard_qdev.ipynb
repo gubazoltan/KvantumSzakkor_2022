{
 "cells": [
  {
   "cell_type": "code",
   "execution_count": 1,
   "id": "1e799b91-b67a-4d6e-9fe5-832c5e3ffb45",
   "metadata": {},
   "outputs": [
    {
     "name": "stderr",
     "output_type": "stream",
     "text": [
      "<frozen importlib._bootstrap>:219: RuntimeWarning: scipy._lib.messagestream.MessageStream size changed, may indicate binary incompatibility. Expected 56 from C header, got 64 from PyObject\n"
     ]
    }
   ],
   "source": [
    "import numpy as np\n",
    "\n",
    "# Importing standard Qiskit libraries\n",
    "from qiskit import QuantumCircuit, execute, transpile, Aer, IBMQ\n",
    "from qiskit.tools.jupyter import *\n",
    "from qiskit.visualization import *\n",
    "from ibm_quantum_widgets import *\n",
    "from qiskit.providers.aer import QasmSimulator\n",
    "\n",
    "# Loading your IBM Quantum account(s)\n",
    "provider = IBMQ.load_account()"
   ]
  },
  {
   "cell_type": "code",
   "execution_count": 2,
   "id": "4caf363e-abb2-4412-9780-54fee2680c02",
   "metadata": {},
   "outputs": [
    {
     "data": {
      "image/png": "[encoded data removed]",
      "text/plain": [
       "<Figure size 193.726x144.48 with 1 Axes>"
      ]
     },
     "execution_count": 2,
     "metadata": {},
     "output_type": "execute_result"
    }
   ],
   "source": [
    "circuit = QuantumCircuit(1,1) \n",
    "circuit.h(0)\n",
    "circuit.measure(0,0)\n",
    "circuit.draw(output = 'mpl')"
   ]
  },
  {
   "cell_type": "code",
   "execution_count": 3,
   "id": "76a1f730-5f3a-4e8a-9c9e-5055527fe2c7",
   "metadata": {},
   "outputs": [
    {
     "name": "stdout",
     "output_type": "stream",
     "text": [
      "ibmq_armonk\n"
     ]
    }
   ],
   "source": [
    "from qiskit.providers.ibmq import least_busy\n",
    "from qiskit.tools.monitor import job_monitor\n",
    "\n",
    "devices = provider.backends()\n",
    "# Ha több qubites áramkört szeretnél futtatni, akkor érdemes az alábbi paranccsal dolgozni\n",
    "#devices = provider.backends(filters=lambda x: x.configuration().n_qubits > 2\n",
    "#and not x.configuration().simulator)\n",
    "real_backend = least_busy(devices)\n",
    "print(real_backend)"
   ]
  },
  {
   "cell_type": "code",
   "execution_count": 4,
   "id": "49e04589-02e3-4162-994c-a3e70e8d6d27",
   "metadata": {},
   "outputs": [
    {
     "name": "stdout",
     "output_type": "stream",
     "text": [
      "Job Status: job has successfully run\n"
     ]
    }
   ],
   "source": [
    "job_dev = execute(circuit, backend=real_backend, shots=1024)\n",
    "job_monitor(job_dev)"
   ]
  },
  {
   "cell_type": "code",
   "execution_count": 5,
   "id": "6da28183-7907-4f48-bb2c-dc57c8da3668",
   "metadata": {},
   "outputs": [
    {
     "name": "stdout",
     "output_type": "stream",
     "text": [
      "{'0': 516, '1': 508}\n"
     ]
    },
    {
     "data": {
      "image/png": "[encoded data removed]",
      "text/plain": [
       "<Figure size 504x360 with 1 Axes>"
      ]
     },
     "execution_count": 5,
     "metadata": {},
     "output_type": "execute_result"
    }
   ],
   "source": [
    "# Print the experimentally measured counts\n",
    "exp_counts = job_dev.result().get_counts(circuit)\n",
    "print(exp_counts)\n",
    "# Plot the results.\n",
    "plot_histogram(exp_counts)"
   ]
  },
  {
   "cell_type": "code",
   "execution_count": null,
   "id": "c2c05ae3-0eda-4fd8-a1a7-768f0ddd860c",
   "metadata": {},
   "outputs": [],
   "source": []
  }
 ],
 "metadata": {
  "kernelspec": {
   "display_name": "Qiskit v0.34.2 (ipykernel)",
   "language": "python",
   "name": "python3"
  },
  "language_info": {
   "codemirror_mode": {
    "name": "ipython",
    "version": 3
   },
   "file_extension": ".py",
   "mimetype": "text/x-python",
   "name": "python",
   "nbconvert_exporter": "python",
   "pygments_lexer": "ipython3",
   "version": "3.8.13"
  },
  "widgets": {
   "application/vnd.jupyter.widget-state+json": {
    "state": {},
    "version_major": 2,
    "version_minor": 0
   }
  }
 },
 "nbformat": 4,
 "nbformat_minor": 5
}
