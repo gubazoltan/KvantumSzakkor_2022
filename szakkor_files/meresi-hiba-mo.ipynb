{
 "cells": [
  {
   "cell_type": "code",
   "execution_count": 23,
   "id": "eae1e9f8-eaf5-483c-b082-800d8a7af969",
   "metadata": {},
   "outputs": [
    {
     "name": "stderr",
     "output_type": "stream",
     "text": [
      "ibmqfactory.load_account:WARNING:2022-04-01 14:12:22,953: Credentials are already in use. The existing account in the session will be replaced.\n"
     ]
    }
   ],
   "source": [
    "# Importing standard Qiskit libraries\n",
    "from qiskit import QuantumCircuit, IBMQ\n",
    "from qiskit.tools import job_monitor\n",
    "\n",
    "# Loading your IBM Quantum account(s)\n",
    "provider = IBMQ.load_account()"
   ]
  },
  {
   "cell_type": "code",
   "execution_count": 24,
   "id": "119001e5-1d8f-4655-b94c-603132d0bd82",
   "metadata": {},
   "outputs": [
    {
     "data": {
      "text/plain": [
       "[<IBMQSimulator('ibmq_qasm_simulator') from IBMQ(hub='ibm-q', group='open', project='main')>,\n",
       " <IBMQBackend('ibmq_armonk') from IBMQ(hub='ibm-q', group='open', project='main')>,\n",
       " <IBMQBackend('ibmq_santiago') from IBMQ(hub='ibm-q', group='open', project='main')>,\n",
       " <IBMQBackend('ibmq_bogota') from IBMQ(hub='ibm-q', group='open', project='main')>,\n",
       " <IBMQBackend('ibmq_lima') from IBMQ(hub='ibm-q', group='open', project='main')>,\n",
       " <IBMQBackend('ibmq_belem') from IBMQ(hub='ibm-q', group='open', project='main')>,\n",
       " <IBMQBackend('ibmq_quito') from IBMQ(hub='ibm-q', group='open', project='main')>,\n",
       " <IBMQSimulator('simulator_statevector') from IBMQ(hub='ibm-q', group='open', project='main')>,\n",
       " <IBMQSimulator('simulator_mps') from IBMQ(hub='ibm-q', group='open', project='main')>,\n",
       " <IBMQSimulator('simulator_extended_stabilizer') from IBMQ(hub='ibm-q', group='open', project='main')>,\n",
       " <IBMQSimulator('simulator_stabilizer') from IBMQ(hub='ibm-q', group='open', project='main')>,\n",
       " <IBMQBackend('ibmq_manila') from IBMQ(hub='ibm-q', group='open', project='main')>]"
      ]
     },
     "execution_count": 24,
     "metadata": {},
     "output_type": "execute_result"
    }
   ],
   "source": [
    "# az elérhető IBM Q gépek listája\n",
    "provider.backends()"
   ]
  },
  {
   "cell_type": "code",
   "execution_count": 32,
   "id": "fbf05ad6-e2a0-4126-a02f-939e32a6a0a9",
   "metadata": {},
   "outputs": [],
   "source": [
    "def qubit_errors(backend_name, N):\n",
    "    # a kvantumszámítógép lekérése\n",
    "    backend = provider.get_backend(backend_name)\n",
    "    # a qubitek száma a kvantumszámítógépen - ez lesz a kvantumos regiszterek száma az áramkörben\n",
    "    n_qubits = backend.configuration().n_qubits\n",
    "    \n",
    "    circs = []\n",
    "    \n",
    "    for i in range(n_qubits):\n",
    "        # a kétféle áramkör definiálása\n",
    "        circ_0 = QuantumCircuit(n_qubits, 1)\n",
    "        circ_0.measure(i, 0)\n",
    "        circ_1 = QuantumCircuit(n_qubits, 1)\n",
    "        circ_1.x(i)\n",
    "        circ_1.measure(i, 0)\n",
    "        circs.append(circ_0)\n",
    "        circs.append(circ_1)\n",
    "    # az áramkörök lefuttatása\n",
    "    job = backend.run(circs, shots=N)\n",
    "    job_monitor(job)\n",
    "    # eredmények\n",
    "    counts = job.result().get_counts()\n",
    "    errors = []\n",
    "    for j in range(n_qubits):\n",
    "        error_01 = counts[2*j].get('1', 0) / N\n",
    "        error_10 = counts[2*j+1].get('0', 0) / N\n",
    "        errors.append([error_01, error_10])\n",
    "    return errors"
   ]
  },
  {
   "cell_type": "code",
   "execution_count": 40,
   "id": "30e41c61-530e-412d-95b5-4d7ca59b5829",
   "metadata": {},
   "outputs": [
    {
     "name": "stdout",
     "output_type": "stream",
     "text": [
      "Job Status: job has successfully run\n"
     ]
    }
   ],
   "source": [
    "errors = qubit_errors('ibmq_quito', 1024)"
   ]
  },
  {
   "cell_type": "code",
   "execution_count": 41,
   "id": "ca9079a3-2460-4ebc-9c3f-0817685489a7",
   "metadata": {},
   "outputs": [
    {
     "data": {
      "text/plain": [
       "[[0.009765625, 0.0498046875],\n",
       " [0.005859375, 0.0419921875],\n",
       " [0.005859375, 0.029296875],\n",
       " [0.005859375, 0.056640625],\n",
       " [0.0048828125, 0.0458984375]]"
      ]
     },
     "execution_count": 41,
     "metadata": {},
     "output_type": "execute_result"
    }
   ],
   "source": [
    "errors"
   ]
  },
  {
   "cell_type": "code",
   "execution_count": 42,
   "id": "1a0bdbd0-e9b0-4385-9e47-3f78296d2d94",
   "metadata": {},
   "outputs": [],
   "source": [
    "import matplotlib.pyplot as plt\n",
    "import numpy as np"
   ]
  },
  {
   "cell_type": "code",
   "execution_count": 46,
   "id": "6a54c815-89de-40b8-b887-1a1292ab0d24",
   "metadata": {},
   "outputs": [],
   "source": [
    "plt.style.use('default')"
   ]
  },
  {
   "cell_type": "code",
   "execution_count": 47,
   "id": "e9b3d79a-d2f3-42e6-98e2-f7015d650589",
   "metadata": {},
   "outputs": [
    {
     "data": {
      "text/plain": [
       "<matplotlib.legend.Legend at 0x7f3644862940>"
      ]
     },
     "execution_count": 47,
     "metadata": {},
     "output_type": "execute_result"
    },
    {
     "data": {
      "image/png": "[encoded data removed]",
      "text/plain": [
       "<Figure size 640x480 with 1 Axes>"
      ]
     },
     "metadata": {},
     "output_type": "display_data"
    }
   ],
   "source": [
    "x = np.arange(5)\n",
    "width = 0.35\n",
    "errors = np.array(errors)\n",
    "fig, ax = plt.subplots()\n",
    "rects1 = ax.bar(x - width/2, errors[:, 0], width, label='error 0->1')\n",
    "rects2 = ax.bar(x + width/2, errors[:, 1], width, label='error 1->0')\n",
    "plt.xlabel('qubit index')\n",
    "plt.ylabel('error probability')\n",
    "plt.legend()"
   ]
  },
  {
   "cell_type": "code",
   "execution_count": null,
   "id": "67fabdc1-4cc1-4030-b3af-84aff6544bc5",
   "metadata": {},
   "outputs": [],
   "source": []
  }
 ],
 "metadata": {
  "kernelspec": {
   "display_name": "Qiskit v0.34.2 (ipykernel)",
   "language": "python",
   "name": "python3"
  },
  "language_info": {
   "codemirror_mode": {
    "name": "ipython",
    "version": 3
   },
   "file_extension": ".py",
   "mimetype": "text/x-python",
   "name": "python",
   "nbconvert_exporter": "python",
   "pygments_lexer": "ipython3",
   "version": "3.8.13"
  },
  "widgets": {
   "application/vnd.jupyter.widget-state+json": {
    "state": {},
    "version_major": 2,
    "version_minor": 0
   }
  }
 },
 "nbformat": 4,
 "nbformat_minor": 5
}
