{
 "cells": [
  {
   "cell_type": "code",
   "execution_count": 1,
   "id": "b98df24e-d100-4104-86b0-3329be36e26c",
   "metadata": {},
   "outputs": [
    {
     "name": "stderr",
     "output_type": "stream",
     "text": [
      "<frozen importlib._bootstrap>:219: RuntimeWarning: scipy._lib.messagestream.MessageStream size changed, may indicate binary incompatibility. Expected 56 from C header, got 64 from PyObject\n"
     ]
    }
   ],
   "source": [
    "# Importing standard Qiskit libraries\n",
    "from qiskit import QuantumCircuit, IBMQ\n",
    "\n",
    "# Loading your IBM Quantum account(s)\n",
    "provider = IBMQ.load_account()"
   ]
  },
  {
   "cell_type": "code",
   "execution_count": 2,
   "id": "6a45d939-24d0-47fc-83f1-1cec4f4fa977",
   "metadata": {},
   "outputs": [
    {
     "data": {
      "text/plain": [
       "[<IBMQSimulator('ibmq_qasm_simulator') from IBMQ(hub='ibm-q', group='open', project='main')>,\n",
       " <IBMQBackend('ibmq_armonk') from IBMQ(hub='ibm-q', group='open', project='main')>,\n",
       " <IBMQBackend('ibmq_santiago') from IBMQ(hub='ibm-q', group='open', project='main')>,\n",
       " <IBMQBackend('ibmq_bogota') from IBMQ(hub='ibm-q', group='open', project='main')>,\n",
       " <IBMQBackend('ibmq_lima') from IBMQ(hub='ibm-q', group='open', project='main')>,\n",
       " <IBMQBackend('ibmq_belem') from IBMQ(hub='ibm-q', group='open', project='main')>,\n",
       " <IBMQBackend('ibmq_quito') from IBMQ(hub='ibm-q', group='open', project='main')>,\n",
       " <IBMQSimulator('simulator_statevector') from IBMQ(hub='ibm-q', group='open', project='main')>,\n",
       " <IBMQSimulator('simulator_mps') from IBMQ(hub='ibm-q', group='open', project='main')>,\n",
       " <IBMQSimulator('simulator_extended_stabilizer') from IBMQ(hub='ibm-q', group='open', project='main')>,\n",
       " <IBMQSimulator('simulator_stabilizer') from IBMQ(hub='ibm-q', group='open', project='main')>,\n",
       " <IBMQBackend('ibmq_manila') from IBMQ(hub='ibm-q', group='open', project='main')>]"
      ]
     },
     "execution_count": 2,
     "metadata": {},
     "output_type": "execute_result"
    }
   ],
   "source": [
    "# az elérhető IBM Q gépek listája\n",
    "provider.backends()"
   ]
  },
  {
   "cell_type": "markdown",
   "id": "c530a576-93cf-45a0-868f-49044d024713",
   "metadata": {
    "tags": []
   },
   "source": [
    "# Kvantumbitek mérési hibáinak felderítése\n",
    "\n",
    "Egy valódi kvantumbit állapotának mérése során hibák történhetnek: a |0> állapotban lévő kvantumbitet néha 1-nek mérhetjük, és fordítva. (Ezeket a szakirodalomban bitflip mérési hibának nevezzük.)\n",
    "\n",
    "**Egy lehetséges módszer a qubit mérési hibájának becslésére:**\n",
    "\n",
    "0->1 mérési hiba becslése\n",
    "* Előkészítjük a qubitet a |0> állapotba\n",
    "* Megmérjük a qubitet.\n",
    "* A fentieket $N$-szer megismételjük, az 1 mérési eredmény relatív gyakorisága lesz a becslésünk a 0->1 mérési hibára.\n",
    "\n",
    "1->0 mérési hiba becslése\n",
    "* Előkészítjük a qubitet az |1> állapotba\n",
    "* Megmérjük a qubitet.\n",
    "* A fentieket $N$-szer megismételjük, a 0 mérési eredmény relatív gyakorisága lesz a becslésünk az 1->0 mérési hibára.\n",
    "\n",
    "**Feladat**\n",
    "\n",
    "Feladatunk írni egy olyan függvényt, ami egy adott kvantumszámítógép összes qubitjére elvégzi a fenti hibabecsléseket.\n",
    "* Bemeneti paraméterek: a kvantumszámítógép neve (string) és a mérések ismétlésének száma \n",
    "* Kimenet: a 0->1 és 1->0 mérési hibák becsült értéke az összes qubitre."
   ]
  },
  {
   "cell_type": "code",
   "execution_count": null,
   "id": "bf39e88f-f749-47d7-b6fd-27326dfc1fc0",
   "metadata": {},
   "outputs": [],
   "source": [
    "# megoldás helye\n",
    "\n",
    "def (backend_name, N):\n",
    "    # a kvantumszámítógép lekérése\n",
    "    backend = provider.get_backend(backend_name)\n",
    "    # a qubitek száma a kvantumszámítógépen - ez lesz a kvantumos regiszterek száma az áramkörben\n",
    "    n_qubits = backend.configuration().n_qubits\n",
    "    \n",
    "    for _ in range(N):\n",
    "        circ = QuantumCircuit(n_qubits, 1)\n",
    "    \n",
    "    "
   ]
  }
 ],
 "metadata": {
  "kernelspec": {
   "display_name": "Qiskit v0.34.2 (ipykernel)",
   "language": "python",
   "name": "python3"
  },
  "language_info": {
   "codemirror_mode": {
    "name": "ipython",
    "version": 3
   },
   "file_extension": ".py",
   "mimetype": "text/x-python",
   "name": "python",
   "nbconvert_exporter": "python",
   "pygments_lexer": "ipython3",
   "version": "3.8.12"
  },
  "widgets": {
   "application/vnd.jupyter.widget-state+json": {
    "state": {},
    "version_major": 2,
    "version_minor": 0
   }
  }
 },
 "nbformat": 4,
 "nbformat_minor": 5
}
